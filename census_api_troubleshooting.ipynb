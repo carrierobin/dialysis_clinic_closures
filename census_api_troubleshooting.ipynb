{
 "cells": [
  {
   "cell_type": "code",
   "execution_count": 1,
   "id": "787879da",
   "metadata": {},
   "outputs": [],
   "source": [
    "import requests\n",
    "import time\n",
    "import pandas as pd"
   ]
  },
  {
   "cell_type": "code",
   "execution_count": 2,
   "id": "601472df",
   "metadata": {},
   "outputs": [
    {
     "name": "stdout",
     "output_type": "stream",
     "text": [
      "pk.eyJ1IjoiY2Fycmllcm9iaW4iLCJhIjoiY21jM2ltdTlyMDU1NTJrb2ZnMnFiazRqeiJ9.RT-SWZnQIo_Z7zSOdRh_vg\n"
     ]
    }
   ],
   "source": [
    "from dotenv import load_dotenv\n",
    "import os\n",
    "\n",
    "load_dotenv()  # loads variables from .env into environment\n",
    "\n",
    "mapbox_api_key = os.getenv('MAPBOX_API_KEY')\n",
    "census_api_key = os.getenv('CENSUS_API_KEY')\n",
    "\n",
    "print(mapbox_api_key)  # Just to check it loads\n"
   ]
  },
  {
   "cell_type": "code",
   "execution_count": null,
   "id": "eeb157e1",
   "metadata": {},
   "outputs": [
    {
     "name": "stdout",
     "output_type": "stream",
     "text": [
      "Fetching data for state 01...\n",
      "Fetching data for state 02...\n",
      "Fetching data for state 04...\n",
      "Fetching data for state 05...\n",
      "Fetching data for state 06...\n",
      "Fetching data for state 08...\n",
      "Fetching data for state 09...\n",
      "Fetching data for state 10...\n",
      "Fetching data for state 11...\n",
      "Fetching data for state 12...\n",
      "Fetching data for state 13...\n",
      "Fetching data for state 15...\n",
      "Fetching data for state 16...\n",
      "Fetching data for state 17...\n",
      "Fetching data for state 18...\n",
      "Fetching data for state 19...\n",
      "Fetching data for state 20...\n",
      "Fetching data for state 21...\n",
      "Fetching data for state 22...\n",
      "Fetching data for state 23...\n",
      "Fetching data for state 24...\n",
      "Fetching data for state 25...\n",
      "Fetching data for state 26...\n",
      "Fetching data for state 27...\n",
      "Fetching data for state 28...\n",
      "Fetching data for state 29...\n",
      "Fetching data for state 30...\n",
      "Fetching data for state 31...\n",
      "Fetching data for state 32...\n",
      "Fetching data for state 33...\n",
      "Fetching data for state 34...\n",
      "Fetching data for state 35...\n",
      "Fetching data for state 36...\n",
      "Fetching data for state 37...\n",
      "Fetching data for state 38...\n",
      "Fetching data for state 39...\n",
      "Fetching data for state 40...\n",
      "Fetching data for state 41...\n",
      "Fetching data for state 42...\n",
      "Fetching data for state 44...\n",
      "Fetching data for state 45...\n",
      "Fetching data for state 46...\n",
      "Fetching data for state 47...\n",
      "Fetching data for state 48...\n",
      "Fetching data for state 49...\n",
      "Fetching data for state 50...\n",
      "Fetching data for state 51...\n",
      "Fetching data for state 53...\n",
      "Fetching data for state 54...\n",
      "Fetching data for state 55...\n",
      "Fetching data for state 56...\n",
      "Done.\n"
     ]
    }
   ],
   "source": [
    "\n",
    "\n",
    "\n",
    "VARIABLES = [\n",
    "    \"NAME\",\n",
    "    \"B02001_001E\",\"B02001_002E\",\"B02001_003E\",\"B02001_004E\",\n",
    "    \"B02001_005E\",\"B02001_006E\",\"B02001_007E\",\"B02001_008E\",\n",
    "    \"B01001_002E\",\"B01001_026E\",\n",
    "    \"B19013_001E\",\n",
    "    \"B17001_001E\",\"B17001_002E\"\n",
    "]\n",
    "\n",
    "# All 50 states + DC (FIPS codes 01–56, skipping 3 U.S. territories)\n",
    "state_fips = [f\"{i:02d}\" for i in range(1, 57) if i not in [3, 7, 14, 43, 52]]  # exclude territories\n",
    "\n",
    "all_data = []\n",
    "\n",
    "for state in state_fips:\n",
    "    print(f\"Fetching data for state {state}...\")\n",
    "    try:\n",
    "        r = requests.get(\n",
    "            \"https://api.census.gov/data/2020/acs/acs5\",\n",
    "            params={\n",
    "                \"get\": \",\".join(VARIABLES),\n",
    "                \"for\": \"tract:*\",\n",
    "                \"in\": f\"state:{state} county:*\",\n",
    "                \"key\": CENSUS_API_KEY\n",
    "            }\n",
    "        )\n",
    "        r.raise_for_status()\n",
    "        data = r.json()\n",
    "        df = pd.DataFrame(data[1:], columns=data[0])\n",
    "        all_data.append(df)\n",
    "        time.sleep(1)  # be kind to the API\n",
    "    except Exception as e:\n",
    "        print(f\"Failed for state {state}: {e}\")\n",
    "\n",
    "# Combine all results\n",
    "tracts = pd.concat(all_data, ignore_index=True)\n",
    "tracts.to_csv(\"acs2020_all_states_tracts.csv\", index=False)\n",
    "print(\"Done.\")\n",
    "\n",
    "# clinic_census= pd.read_csv('df2025_full_census.csv')\n",
    "# tracts= pd.read_csv('acs2022_all_states_tracts.csv')\n",
    "\n",
    "# tracts.info()\n",
    "\n",
    "\n",
    "# tracts[\"census_tract\"] = (\n",
    "#     tracts[\"state\"].str.zfill(2) +\n",
    "#     tracts[\"county\"].str.zfill(3) +\n",
    "#     tracts[\"tract\"].str.zfill(6)\n",
    "# )\n",
    "\n"
   ]
  },
  {
   "cell_type": "code",
   "execution_count": 3,
   "id": "d6db04fd",
   "metadata": {},
   "outputs": [
    {
     "name": "stdout",
     "output_type": "stream",
     "text": [
      "0    01073003600\n",
      "1    01073003700\n",
      "2    01073003802\n",
      "3    01073003803\n",
      "4    01073003900\n",
      "Name: census_tract, dtype: object\n",
      "census_tract\n",
      "11    84414\n",
      "Name: count, dtype: int64\n"
     ]
    }
   ],
   "source": [
    "tracts[\"census_tract\"] = (\n",
    "    tracts[\"state\"].astype(str).str.zfill(2) +\n",
    "    tracts[\"county\"].astype(str).str.zfill(3) +\n",
    "    tracts[\"tract\"].astype(str).str.zfill(6)\n",
    ")\n",
    "print(tracts[\"census_tract\"].head())\n",
    "print(tracts[\"census_tract\"].str.len().value_counts())\n",
    "\n",
    "tracts.to_csv(\"acs2020_census_tract.csv\", index=False)"
   ]
  },
  {
   "cell_type": "code",
   "execution_count": 4,
   "id": "e9a57785",
   "metadata": {},
   "outputs": [
    {
     "name": "stdout",
     "output_type": "stream",
     "text": [
      "84414\n",
      "6652\n"
     ]
    }
   ],
   "source": [
    "_tracts = pd.read_csv(\"acs2020_census_tract.csv\")\n",
    "clinic_census = pd.read_csv(\"df2025_full_census.csv\", dtype={'census_tract': str})\n",
    "\n",
    "\n",
    "_tracts[\"census_tract\"] = _tracts[\"census_tract\"].astype(str).str.zfill(11)\n",
    "clinic_census[\"census_tract\"] = clinic_census[\"census_tract\"].astype(str).str.zfill(11)\n",
    "\n",
    "print(_tracts['census_tract'].nunique())\n",
    "print(clinic_census['census_tract'].nunique())"
   ]
  },
  {
   "cell_type": "code",
   "execution_count": 5,
   "id": "025f333a",
   "metadata": {},
   "outputs": [
    {
     "name": "stdout",
     "output_type": "stream",
     "text": [
      "(7556, 147)\n",
      "Index(['CMS Certification Number (CCN)', 'Network', 'Facility Name',\n",
      "       'Five Star Date', 'Five Star', 'Five Star Data Availability Code',\n",
      "       'Address Line 1', 'Address Line 2', 'City/Town', 'State',\n",
      "       ...\n",
      "       'Percentage of Adult patients with long term catheter in use',\n",
      "       'nPCR Data Availability Code', 'Number of patients in nPCR summary',\n",
      "       'Number of patient-months in nPCR summary',\n",
      "       'Percentage of pediatric HD patients with nPCR', 'dfc_new',\n",
      "       'full_address', 'latitude', 'longitude', 'census_tract'],\n",
      "      dtype='object', length=147)\n"
     ]
    },
    {
     "data": {
      "text/html": [
       "<div>\n",
       "<style scoped>\n",
       "    .dataframe tbody tr th:only-of-type {\n",
       "        vertical-align: middle;\n",
       "    }\n",
       "\n",
       "    .dataframe tbody tr th {\n",
       "        vertical-align: top;\n",
       "    }\n",
       "\n",
       "    .dataframe thead th {\n",
       "        text-align: right;\n",
       "    }\n",
       "</style>\n",
       "<table border=\"1\" class=\"dataframe\">\n",
       "  <thead>\n",
       "    <tr style=\"text-align: right;\">\n",
       "      <th></th>\n",
       "      <th>CMS Certification Number (CCN)</th>\n",
       "      <th>Network</th>\n",
       "      <th>Facility Name</th>\n",
       "      <th>Five Star Date</th>\n",
       "      <th>Five Star</th>\n",
       "      <th>Five Star Data Availability Code</th>\n",
       "      <th>Address Line 1</th>\n",
       "      <th>Address Line 2</th>\n",
       "      <th>City/Town</th>\n",
       "      <th>State</th>\n",
       "      <th>...</th>\n",
       "      <th>Percentage of Adult patients with long term catheter in use</th>\n",
       "      <th>nPCR Data Availability Code</th>\n",
       "      <th>Number of patients in nPCR summary</th>\n",
       "      <th>Number of patient-months in nPCR summary</th>\n",
       "      <th>Percentage of pediatric HD patients with nPCR</th>\n",
       "      <th>dfc_new</th>\n",
       "      <th>full_address</th>\n",
       "      <th>latitude</th>\n",
       "      <th>longitude</th>\n",
       "      <th>census_tract</th>\n",
       "    </tr>\n",
       "  </thead>\n",
       "  <tbody>\n",
       "    <tr>\n",
       "      <th>0</th>\n",
       "      <td>12306</td>\n",
       "      <td>8</td>\n",
       "      <td>CHILDRENS HOSPITAL DIALYSIS</td>\n",
       "      <td>01Jan2020-31Dec2023</td>\n",
       "      <td>NaN</td>\n",
       "      <td>260</td>\n",
       "      <td>1600 7TH AVENUE SOUTH</td>\n",
       "      <td>NaN</td>\n",
       "      <td>BIRMINGHAM</td>\n",
       "      <td>AL</td>\n",
       "      <td>...</td>\n",
       "      <td>NaN</td>\n",
       "      <td>1</td>\n",
       "      <td>24.0</td>\n",
       "      <td>175.0</td>\n",
       "      <td>99.0</td>\n",
       "      <td>existing</td>\n",
       "      <td>1600 7TH AVENUE SOUTH, BIRMINGHAM, AL 35233</td>\n",
       "      <td>33.504018</td>\n",
       "      <td>-86.805215</td>\n",
       "      <td>1.073005e+09</td>\n",
       "    </tr>\n",
       "    <tr>\n",
       "      <th>1</th>\n",
       "      <td>12500</td>\n",
       "      <td>8</td>\n",
       "      <td>FMC CAPITOL CITY</td>\n",
       "      <td>01Jan2020-31Dec2023</td>\n",
       "      <td>1.0</td>\n",
       "      <td>1</td>\n",
       "      <td>255 S JACKSON STREET</td>\n",
       "      <td>NaN</td>\n",
       "      <td>MONTGOMERY</td>\n",
       "      <td>AL</td>\n",
       "      <td>...</td>\n",
       "      <td>16.0</td>\n",
       "      <td>259</td>\n",
       "      <td>0.0</td>\n",
       "      <td>NaN</td>\n",
       "      <td>NaN</td>\n",
       "      <td>existing</td>\n",
       "      <td>255 S JACKSON STREET, MONTGOMERY, AL 36104</td>\n",
       "      <td>32.374048</td>\n",
       "      <td>-86.295939</td>\n",
       "      <td>1.101001e+09</td>\n",
       "    </tr>\n",
       "    <tr>\n",
       "      <th>2</th>\n",
       "      <td>12501</td>\n",
       "      <td>8</td>\n",
       "      <td>DaVita Gadsden Dialysis</td>\n",
       "      <td>01Jan2020-31Dec2023</td>\n",
       "      <td>2.0</td>\n",
       "      <td>1</td>\n",
       "      <td>409 SOUTH FIRST STREET</td>\n",
       "      <td>NaN</td>\n",
       "      <td>GADSDEN</td>\n",
       "      <td>AL</td>\n",
       "      <td>...</td>\n",
       "      <td>12.0</td>\n",
       "      <td>259</td>\n",
       "      <td>0.0</td>\n",
       "      <td>NaN</td>\n",
       "      <td>NaN</td>\n",
       "      <td>existing</td>\n",
       "      <td>409 SOUTH FIRST STREET, GADSDEN, AL 35901</td>\n",
       "      <td>34.006750</td>\n",
       "      <td>-86.003132</td>\n",
       "      <td>1.055001e+09</td>\n",
       "    </tr>\n",
       "    <tr>\n",
       "      <th>3</th>\n",
       "      <td>12502</td>\n",
       "      <td>8</td>\n",
       "      <td>DaVita Tuscaloosa University Dialysis</td>\n",
       "      <td>01Jan2020-31Dec2023</td>\n",
       "      <td>1.0</td>\n",
       "      <td>1</td>\n",
       "      <td>220 15TH STREET</td>\n",
       "      <td>NaN</td>\n",
       "      <td>TUSCALOOSA</td>\n",
       "      <td>AL</td>\n",
       "      <td>...</td>\n",
       "      <td>11.0</td>\n",
       "      <td>259</td>\n",
       "      <td>0.0</td>\n",
       "      <td>NaN</td>\n",
       "      <td>NaN</td>\n",
       "      <td>existing</td>\n",
       "      <td>220 15TH STREET, TUSCALOOSA, AL 35401</td>\n",
       "      <td>33.198990</td>\n",
       "      <td>-87.538230</td>\n",
       "      <td>1.125012e+09</td>\n",
       "    </tr>\n",
       "    <tr>\n",
       "      <th>4</th>\n",
       "      <td>12505</td>\n",
       "      <td>8</td>\n",
       "      <td>DaVita PDI-Montgomery</td>\n",
       "      <td>01Jan2020-31Dec2023</td>\n",
       "      <td>3.0</td>\n",
       "      <td>1</td>\n",
       "      <td>1001 FOREST AVENUE</td>\n",
       "      <td>NaN</td>\n",
       "      <td>MONTGOMERY</td>\n",
       "      <td>AL</td>\n",
       "      <td>...</td>\n",
       "      <td>14.0</td>\n",
       "      <td>259</td>\n",
       "      <td>0.0</td>\n",
       "      <td>NaN</td>\n",
       "      <td>NaN</td>\n",
       "      <td>existing</td>\n",
       "      <td>1001 FOREST AVENUE, MONTGOMERY, AL 36106</td>\n",
       "      <td>32.369331</td>\n",
       "      <td>-86.285969</td>\n",
       "      <td>1.101001e+09</td>\n",
       "    </tr>\n",
       "  </tbody>\n",
       "</table>\n",
       "<p>5 rows × 147 columns</p>\n",
       "</div>"
      ],
      "text/plain": [
       "   CMS Certification Number (CCN)  Network  \\\n",
       "0                           12306        8   \n",
       "1                           12500        8   \n",
       "2                           12501        8   \n",
       "3                           12502        8   \n",
       "4                           12505        8   \n",
       "\n",
       "                           Facility Name       Five Star Date  Five Star  \\\n",
       "0            CHILDRENS HOSPITAL DIALYSIS  01Jan2020-31Dec2023        NaN   \n",
       "1                       FMC CAPITOL CITY  01Jan2020-31Dec2023        1.0   \n",
       "2                DaVita Gadsden Dialysis  01Jan2020-31Dec2023        2.0   \n",
       "3  DaVita Tuscaloosa University Dialysis  01Jan2020-31Dec2023        1.0   \n",
       "4                  DaVita PDI-Montgomery  01Jan2020-31Dec2023        3.0   \n",
       "\n",
       "   Five Star Data Availability Code          Address Line 1 Address Line 2  \\\n",
       "0                               260   1600 7TH AVENUE SOUTH            NaN   \n",
       "1                                 1    255 S JACKSON STREET            NaN   \n",
       "2                                 1  409 SOUTH FIRST STREET            NaN   \n",
       "3                                 1         220 15TH STREET            NaN   \n",
       "4                                 1      1001 FOREST AVENUE            NaN   \n",
       "\n",
       "    City/Town State  ...  \\\n",
       "0  BIRMINGHAM    AL  ...   \n",
       "1  MONTGOMERY    AL  ...   \n",
       "2     GADSDEN    AL  ...   \n",
       "3  TUSCALOOSA    AL  ...   \n",
       "4  MONTGOMERY    AL  ...   \n",
       "\n",
       "   Percentage of Adult patients with long term catheter in use  \\\n",
       "0                                                NaN             \n",
       "1                                               16.0             \n",
       "2                                               12.0             \n",
       "3                                               11.0             \n",
       "4                                               14.0             \n",
       "\n",
       "  nPCR Data Availability Code Number of patients in nPCR summary  \\\n",
       "0                           1                               24.0   \n",
       "1                         259                                0.0   \n",
       "2                         259                                0.0   \n",
       "3                         259                                0.0   \n",
       "4                         259                                0.0   \n",
       "\n",
       "  Number of patient-months in nPCR summary  \\\n",
       "0                                    175.0   \n",
       "1                                      NaN   \n",
       "2                                      NaN   \n",
       "3                                      NaN   \n",
       "4                                      NaN   \n",
       "\n",
       "  Percentage of pediatric HD patients with nPCR   dfc_new  \\\n",
       "0                                          99.0  existing   \n",
       "1                                           NaN  existing   \n",
       "2                                           NaN  existing   \n",
       "3                                           NaN  existing   \n",
       "4                                           NaN  existing   \n",
       "\n",
       "                                  full_address   latitude  longitude  \\\n",
       "0  1600 7TH AVENUE SOUTH, BIRMINGHAM, AL 35233  33.504018 -86.805215   \n",
       "1   255 S JACKSON STREET, MONTGOMERY, AL 36104  32.374048 -86.295939   \n",
       "2    409 SOUTH FIRST STREET, GADSDEN, AL 35901  34.006750 -86.003132   \n",
       "3        220 15TH STREET, TUSCALOOSA, AL 35401  33.198990 -87.538230   \n",
       "4     1001 FOREST AVENUE, MONTGOMERY, AL 36106  32.369331 -86.285969   \n",
       "\n",
       "   census_tract  \n",
       "0  1.073005e+09  \n",
       "1  1.101001e+09  \n",
       "2  1.055001e+09  \n",
       "3  1.125012e+09  \n",
       "4  1.101001e+09  \n",
       "\n",
       "[5 rows x 147 columns]"
      ]
     },
     "execution_count": 5,
     "metadata": {},
     "output_type": "execute_result"
    }
   ],
   "source": [
    "clinic_census = pd.read_csv(\"df2025_full_census.csv\")\n",
    "print(clinic_census.shape)\n",
    "print(clinic_census.columns)\n",
    "clinic_census.head()"
   ]
  },
  {
   "cell_type": "code",
   "execution_count": 6,
   "id": "90a057ef",
   "metadata": {},
   "outputs": [
    {
     "name": "stdout",
     "output_type": "stream",
     "text": [
      "1\n"
     ]
    }
   ],
   "source": [
    "print(clinic_census['census_tract'].isna().sum())\n"
   ]
  },
  {
   "cell_type": "code",
   "execution_count": 7,
   "id": "c031a0e6",
   "metadata": {},
   "outputs": [
    {
     "name": "stdout",
     "output_type": "stream",
     "text": [
      "0    1.073005e+09\n",
      "1    1.101001e+09\n",
      "2    1.055001e+09\n",
      "3    1.125012e+09\n",
      "4    1.101001e+09\n",
      "5    1.069040e+09\n",
      "6    1.097003e+09\n",
      "7    1.073006e+09\n",
      "8    1.047957e+09\n",
      "9    1.017955e+09\n",
      "Name: census_tract, dtype: float64\n"
     ]
    }
   ],
   "source": [
    "print(clinic_census['census_tract'].head(10))"
   ]
  },
  {
   "cell_type": "code",
   "execution_count": 8,
   "id": "b0fba4e8",
   "metadata": {},
   "outputs": [
    {
     "name": "stdout",
     "output_type": "stream",
     "text": [
      "float64\n"
     ]
    }
   ],
   "source": [
    "print(clinic_census['census_tract'].dtypes)"
   ]
  },
  {
   "cell_type": "code",
   "execution_count": 9,
   "id": "8ad3e791",
   "metadata": {},
   "outputs": [],
   "source": [
    "clinic_census['census_tract'] = clinic_census['census_tract'].apply(lambda x: str(int(x)).zfill(11) if pd.notnull(x) else None)"
   ]
  },
  {
   "cell_type": "code",
   "execution_count": 10,
   "id": "5fc3b4c3",
   "metadata": {},
   "outputs": [
    {
     "name": "stdout",
     "output_type": "stream",
     "text": [
      "0    01073004502\n",
      "1    01101000600\n",
      "2    01055001200\n",
      "3    01125012002\n",
      "4    01101000600\n",
      "5    01069040204\n",
      "6    01097002700\n",
      "7    01073005903\n",
      "8    01047956800\n",
      "9    01017954600\n",
      "Name: census_tract, dtype: object\n"
     ]
    }
   ],
   "source": [
    "print(clinic_census['census_tract'].head(10))"
   ]
  },
  {
   "cell_type": "code",
   "execution_count": 11,
   "id": "e32fdf58",
   "metadata": {},
   "outputs": [
    {
     "name": "stdout",
     "output_type": "stream",
     "text": [
      "['01073004502' '01101000600' '01055001200' ... '13153020800' '13247060312'\n",
      " '13121011652']\n",
      "census_tract\n",
      "11    7556\n",
      "Name: count, dtype: int64\n"
     ]
    }
   ],
   "source": [
    "_tracts['census_tract'] = _tracts['census_tract'].astype(str).str.strip().str.zfill(11)\n",
    "clinic_census['census_tract'] = clinic_census['census_tract'].astype(str).str.strip().str.zfill(11)\n",
    "\n",
    "# _tracts = _tracts[_tracts['census_tract'].str.match(r'^\\d{11}$')]\n",
    "# clinic_census = clinic_census[clinic_census['census_tract'].str.match(r'^\\d{11}$')]\n",
    "\n",
    "print(clinic_census['census_tract'].unique())\n",
    "print(clinic_census['census_tract'].str.len().value_counts())\n"
   ]
  },
  {
   "cell_type": "code",
   "execution_count": 12,
   "id": "ba854e3d",
   "metadata": {},
   "outputs": [
    {
     "data": {
      "text/plain": [
       "count    83400.000000\n",
       "mean         0.138391\n",
       "std          0.115121\n",
       "min          0.000000\n",
       "25%          0.056153\n",
       "50%          0.106053\n",
       "75%          0.187936\n",
       "max          1.000000\n",
       "Name: pct_poverty, dtype: float64"
      ]
     },
     "execution_count": 12,
     "metadata": {},
     "output_type": "execute_result"
    }
   ],
   "source": [
    "#create percentage variables\n",
    "# Avoid division by zero\n",
    "_tracts['B02001_002E'] = _tracts['B02001_002E'].astype(float)\n",
    "_tracts['B02001_001E'] = _tracts['B02001_001E'].astype(float)\n",
    "_tracts['B02001_003E'] = _tracts['B02001_003E'].astype(float)\n",
    "_tracts['B17001_002E'] = _tracts['B17001_002E'].astype(float)\n",
    "_tracts['B17001_001E'] = _tracts['B17001_001E'].astype(float)\n",
    "\n",
    "_tracts[\"pct_white\"] = _tracts[\"B02001_002E\"] / _tracts[\"B02001_001E\"]\n",
    "_tracts[\"pct_black\"] = _tracts[\"B02001_003E\"] / _tracts[\"B02001_001E\"]\n",
    "_tracts[\"pct_poverty\"] = _tracts[\"B17001_002E\"] / _tracts[\"B17001_001E\"]\n",
    "\n",
    "_tracts['pct_poverty'].describe()"
   ]
  },
  {
   "cell_type": "code",
   "execution_count": 13,
   "id": "0e290721",
   "metadata": {},
   "outputs": [
    {
     "name": "stdout",
     "output_type": "stream",
     "text": [
      "Demo sample tracts: ['01073003600' '01073003700' '01073003802' '01073003803' '01073003900']\n"
     ]
    }
   ],
   "source": [
    "print(\"Demo sample tracts:\", _tracts[\"census_tract\"].unique()[:5])\n"
   ]
  },
  {
   "cell_type": "code",
   "execution_count": 14,
   "id": "99c9a92f",
   "metadata": {},
   "outputs": [
    {
     "name": "stdout",
     "output_type": "stream",
     "text": [
      "Index(['CMS Certification Number (CCN)', 'Network', 'Facility Name',\n",
      "       'Five Star Date', 'Five Star', 'Five Star Data Availability Code',\n",
      "       'Address Line 1', 'Address Line 2', 'City/Town', 'State',\n",
      "       ...\n",
      "       'Percentage of Adult patients with long term catheter in use',\n",
      "       'nPCR Data Availability Code', 'Number of patients in nPCR summary',\n",
      "       'Number of patient-months in nPCR summary',\n",
      "       'Percentage of pediatric HD patients with nPCR', 'dfc_new',\n",
      "       'full_address', 'latitude', 'longitude', 'census_tract'],\n",
      "      dtype='object', length=147)\n",
      "   CMS Certification Number (CCN)  Network  \\\n",
      "0                           12306        8   \n",
      "1                           12500        8   \n",
      "2                           12501        8   \n",
      "3                           12502        8   \n",
      "4                           12505        8   \n",
      "\n",
      "                           Facility Name       Five Star Date  Five Star  \\\n",
      "0            CHILDRENS HOSPITAL DIALYSIS  01Jan2020-31Dec2023        NaN   \n",
      "1                       FMC CAPITOL CITY  01Jan2020-31Dec2023        1.0   \n",
      "2                DaVita Gadsden Dialysis  01Jan2020-31Dec2023        2.0   \n",
      "3  DaVita Tuscaloosa University Dialysis  01Jan2020-31Dec2023        1.0   \n",
      "4                  DaVita PDI-Montgomery  01Jan2020-31Dec2023        3.0   \n",
      "\n",
      "   Five Star Data Availability Code          Address Line 1 Address Line 2  \\\n",
      "0                               260   1600 7TH AVENUE SOUTH            NaN   \n",
      "1                                 1    255 S JACKSON STREET            NaN   \n",
      "2                                 1  409 SOUTH FIRST STREET            NaN   \n",
      "3                                 1         220 15TH STREET            NaN   \n",
      "4                                 1      1001 FOREST AVENUE            NaN   \n",
      "\n",
      "    City/Town State  ...  \\\n",
      "0  BIRMINGHAM    AL  ...   \n",
      "1  MONTGOMERY    AL  ...   \n",
      "2     GADSDEN    AL  ...   \n",
      "3  TUSCALOOSA    AL  ...   \n",
      "4  MONTGOMERY    AL  ...   \n",
      "\n",
      "   Percentage of Adult patients with long term catheter in use  \\\n",
      "0                                                NaN             \n",
      "1                                               16.0             \n",
      "2                                               12.0             \n",
      "3                                               11.0             \n",
      "4                                               14.0             \n",
      "\n",
      "  nPCR Data Availability Code Number of patients in nPCR summary  \\\n",
      "0                           1                               24.0   \n",
      "1                         259                                0.0   \n",
      "2                         259                                0.0   \n",
      "3                         259                                0.0   \n",
      "4                         259                                0.0   \n",
      "\n",
      "  Number of patient-months in nPCR summary  \\\n",
      "0                                    175.0   \n",
      "1                                      NaN   \n",
      "2                                      NaN   \n",
      "3                                      NaN   \n",
      "4                                      NaN   \n",
      "\n",
      "  Percentage of pediatric HD patients with nPCR   dfc_new  \\\n",
      "0                                          99.0  existing   \n",
      "1                                           NaN  existing   \n",
      "2                                           NaN  existing   \n",
      "3                                           NaN  existing   \n",
      "4                                           NaN  existing   \n",
      "\n",
      "                                  full_address   latitude  longitude  \\\n",
      "0  1600 7TH AVENUE SOUTH, BIRMINGHAM, AL 35233  33.504018 -86.805215   \n",
      "1   255 S JACKSON STREET, MONTGOMERY, AL 36104  32.374048 -86.295939   \n",
      "2    409 SOUTH FIRST STREET, GADSDEN, AL 35901  34.006750 -86.003132   \n",
      "3        220 15TH STREET, TUSCALOOSA, AL 35401  33.198990 -87.538230   \n",
      "4     1001 FOREST AVENUE, MONTGOMERY, AL 36106  32.369331 -86.285969   \n",
      "\n",
      "  census_tract  \n",
      "0  01073004502  \n",
      "1  01101000600  \n",
      "2  01055001200  \n",
      "3  01125012002  \n",
      "4  01101000600  \n",
      "\n",
      "[5 rows x 147 columns]\n"
     ]
    }
   ],
   "source": [
    "print(clinic_census.columns)\n",
    "print(clinic_census.head(5))"
   ]
  },
  {
   "cell_type": "code",
   "execution_count": 15,
   "id": "eb1ad70b",
   "metadata": {},
   "outputs": [
    {
     "name": "stdout",
     "output_type": "stream",
     "text": [
      "Clinic sample tracts: ['01073004502' '01101000600' '01055001200' '01125012002' '01069040204']\n"
     ]
    }
   ],
   "source": [
    "print(\"Clinic sample tracts:\", clinic_census[\"census_tract\"].unique()[:5])"
   ]
  },
  {
   "cell_type": "code",
   "execution_count": 16,
   "id": "9df2ca31",
   "metadata": {},
   "outputs": [
    {
     "name": "stdout",
     "output_type": "stream",
     "text": [
      "<class 'pandas.core.frame.DataFrame'>\n",
      "RangeIndex: 7556 entries, 0 to 7555\n",
      "Columns: 167 entries, CMS Certification Number (CCN) to pct_poverty\n",
      "dtypes: float64(97), int64(27), object(43)\n",
      "memory usage: 9.6+ MB\n"
     ]
    },
    {
     "data": {
      "text/html": [
       "<div>\n",
       "<style scoped>\n",
       "    .dataframe tbody tr th:only-of-type {\n",
       "        vertical-align: middle;\n",
       "    }\n",
       "\n",
       "    .dataframe tbody tr th {\n",
       "        vertical-align: top;\n",
       "    }\n",
       "\n",
       "    .dataframe thead th {\n",
       "        text-align: right;\n",
       "    }\n",
       "</style>\n",
       "<table border=\"1\" class=\"dataframe\">\n",
       "  <thead>\n",
       "    <tr style=\"text-align: right;\">\n",
       "      <th></th>\n",
       "      <th>CMS Certification Number (CCN)</th>\n",
       "      <th>Network</th>\n",
       "      <th>Facility Name</th>\n",
       "      <th>Five Star Date</th>\n",
       "      <th>Five Star</th>\n",
       "      <th>Five Star Data Availability Code</th>\n",
       "      <th>Address Line 1</th>\n",
       "      <th>Address Line 2</th>\n",
       "      <th>City/Town</th>\n",
       "      <th>State</th>\n",
       "      <th>...</th>\n",
       "      <th>B01001_026E</th>\n",
       "      <th>B19013_001E</th>\n",
       "      <th>B17001_001E</th>\n",
       "      <th>B17001_002E</th>\n",
       "      <th>state</th>\n",
       "      <th>county</th>\n",
       "      <th>tract</th>\n",
       "      <th>pct_white</th>\n",
       "      <th>pct_black</th>\n",
       "      <th>pct_poverty</th>\n",
       "    </tr>\n",
       "  </thead>\n",
       "  <tbody>\n",
       "    <tr>\n",
       "      <th>0</th>\n",
       "      <td>12306</td>\n",
       "      <td>8</td>\n",
       "      <td>CHILDRENS HOSPITAL DIALYSIS</td>\n",
       "      <td>01Jan2020-31Dec2023</td>\n",
       "      <td>NaN</td>\n",
       "      <td>260</td>\n",
       "      <td>1600 7TH AVENUE SOUTH</td>\n",
       "      <td>NaN</td>\n",
       "      <td>BIRMINGHAM</td>\n",
       "      <td>AL</td>\n",
       "      <td>...</td>\n",
       "      <td>1739.0</td>\n",
       "      <td>17400.0</td>\n",
       "      <td>2953.0</td>\n",
       "      <td>1589.0</td>\n",
       "      <td>1.0</td>\n",
       "      <td>73.0</td>\n",
       "      <td>4502.0</td>\n",
       "      <td>0.407848</td>\n",
       "      <td>0.366999</td>\n",
       "      <td>0.538097</td>\n",
       "    </tr>\n",
       "    <tr>\n",
       "      <th>1</th>\n",
       "      <td>12500</td>\n",
       "      <td>8</td>\n",
       "      <td>FMC CAPITOL CITY</td>\n",
       "      <td>01Jan2020-31Dec2023</td>\n",
       "      <td>1.0</td>\n",
       "      <td>1</td>\n",
       "      <td>255 S JACKSON STREET</td>\n",
       "      <td>NaN</td>\n",
       "      <td>MONTGOMERY</td>\n",
       "      <td>AL</td>\n",
       "      <td>...</td>\n",
       "      <td>945.0</td>\n",
       "      <td>16582.0</td>\n",
       "      <td>1658.0</td>\n",
       "      <td>924.0</td>\n",
       "      <td>1.0</td>\n",
       "      <td>101.0</td>\n",
       "      <td>600.0</td>\n",
       "      <td>0.049209</td>\n",
       "      <td>0.947862</td>\n",
       "      <td>0.557298</td>\n",
       "    </tr>\n",
       "    <tr>\n",
       "      <th>2</th>\n",
       "      <td>12501</td>\n",
       "      <td>8</td>\n",
       "      <td>DaVita Gadsden Dialysis</td>\n",
       "      <td>01Jan2020-31Dec2023</td>\n",
       "      <td>2.0</td>\n",
       "      <td>1</td>\n",
       "      <td>409 SOUTH FIRST STREET</td>\n",
       "      <td>NaN</td>\n",
       "      <td>GADSDEN</td>\n",
       "      <td>AL</td>\n",
       "      <td>...</td>\n",
       "      <td>1475.0</td>\n",
       "      <td>40639.0</td>\n",
       "      <td>2663.0</td>\n",
       "      <td>352.0</td>\n",
       "      <td>1.0</td>\n",
       "      <td>55.0</td>\n",
       "      <td>1200.0</td>\n",
       "      <td>0.738641</td>\n",
       "      <td>0.167480</td>\n",
       "      <td>0.132182</td>\n",
       "    </tr>\n",
       "    <tr>\n",
       "      <th>3</th>\n",
       "      <td>12502</td>\n",
       "      <td>8</td>\n",
       "      <td>DaVita Tuscaloosa University Dialysis</td>\n",
       "      <td>01Jan2020-31Dec2023</td>\n",
       "      <td>1.0</td>\n",
       "      <td>1</td>\n",
       "      <td>220 15TH STREET</td>\n",
       "      <td>NaN</td>\n",
       "      <td>TUSCALOOSA</td>\n",
       "      <td>AL</td>\n",
       "      <td>...</td>\n",
       "      <td>627.0</td>\n",
       "      <td>22723.0</td>\n",
       "      <td>1188.0</td>\n",
       "      <td>853.0</td>\n",
       "      <td>1.0</td>\n",
       "      <td>125.0</td>\n",
       "      <td>12002.0</td>\n",
       "      <td>0.900673</td>\n",
       "      <td>0.021886</td>\n",
       "      <td>0.718013</td>\n",
       "    </tr>\n",
       "    <tr>\n",
       "      <th>4</th>\n",
       "      <td>12505</td>\n",
       "      <td>8</td>\n",
       "      <td>DaVita PDI-Montgomery</td>\n",
       "      <td>01Jan2020-31Dec2023</td>\n",
       "      <td>3.0</td>\n",
       "      <td>1</td>\n",
       "      <td>1001 FOREST AVENUE</td>\n",
       "      <td>NaN</td>\n",
       "      <td>MONTGOMERY</td>\n",
       "      <td>AL</td>\n",
       "      <td>...</td>\n",
       "      <td>945.0</td>\n",
       "      <td>16582.0</td>\n",
       "      <td>1658.0</td>\n",
       "      <td>924.0</td>\n",
       "      <td>1.0</td>\n",
       "      <td>101.0</td>\n",
       "      <td>600.0</td>\n",
       "      <td>0.049209</td>\n",
       "      <td>0.947862</td>\n",
       "      <td>0.557298</td>\n",
       "    </tr>\n",
       "  </tbody>\n",
       "</table>\n",
       "<p>5 rows × 167 columns</p>\n",
       "</div>"
      ],
      "text/plain": [
       "   CMS Certification Number (CCN)  Network  \\\n",
       "0                           12306        8   \n",
       "1                           12500        8   \n",
       "2                           12501        8   \n",
       "3                           12502        8   \n",
       "4                           12505        8   \n",
       "\n",
       "                           Facility Name       Five Star Date  Five Star  \\\n",
       "0            CHILDRENS HOSPITAL DIALYSIS  01Jan2020-31Dec2023        NaN   \n",
       "1                       FMC CAPITOL CITY  01Jan2020-31Dec2023        1.0   \n",
       "2                DaVita Gadsden Dialysis  01Jan2020-31Dec2023        2.0   \n",
       "3  DaVita Tuscaloosa University Dialysis  01Jan2020-31Dec2023        1.0   \n",
       "4                  DaVita PDI-Montgomery  01Jan2020-31Dec2023        3.0   \n",
       "\n",
       "   Five Star Data Availability Code          Address Line 1 Address Line 2  \\\n",
       "0                               260   1600 7TH AVENUE SOUTH            NaN   \n",
       "1                                 1    255 S JACKSON STREET            NaN   \n",
       "2                                 1  409 SOUTH FIRST STREET            NaN   \n",
       "3                                 1         220 15TH STREET            NaN   \n",
       "4                                 1      1001 FOREST AVENUE            NaN   \n",
       "\n",
       "    City/Town State  ...  B01001_026E B19013_001E B17001_001E B17001_002E  \\\n",
       "0  BIRMINGHAM    AL  ...       1739.0     17400.0      2953.0      1589.0   \n",
       "1  MONTGOMERY    AL  ...        945.0     16582.0      1658.0       924.0   \n",
       "2     GADSDEN    AL  ...       1475.0     40639.0      2663.0       352.0   \n",
       "3  TUSCALOOSA    AL  ...        627.0     22723.0      1188.0       853.0   \n",
       "4  MONTGOMERY    AL  ...        945.0     16582.0      1658.0       924.0   \n",
       "\n",
       "  state county    tract  pct_white pct_black pct_poverty  \n",
       "0   1.0   73.0   4502.0   0.407848  0.366999    0.538097  \n",
       "1   1.0  101.0    600.0   0.049209  0.947862    0.557298  \n",
       "2   1.0   55.0   1200.0   0.738641  0.167480    0.132182  \n",
       "3   1.0  125.0  12002.0   0.900673  0.021886    0.718013  \n",
       "4   1.0  101.0    600.0   0.049209  0.947862    0.557298  \n",
       "\n",
       "[5 rows x 167 columns]"
      ]
     },
     "execution_count": 16,
     "metadata": {},
     "output_type": "execute_result"
    }
   ],
   "source": [
    "# Merge on the 'census_tract' column\n",
    "clinic_with_demo = clinic_census.merge(\n",
    "    _tracts,\n",
    "    on=\"census_tract\",\n",
    "    how=\"left\"  # keep all clinics, even if no match\n",
    ")\n",
    "\n",
    "clinic_with_demo.info()\n",
    "clinic_with_demo.head()\n"
   ]
  },
  {
   "cell_type": "code",
   "execution_count": 17,
   "id": "5fd2fb2e",
   "metadata": {},
   "outputs": [
    {
     "data": {
      "image/png": "[encoded data removed]",
      "text/plain": [
       "<Figure size 800x600 with 1 Axes>"
      ]
     },
     "metadata": {},
     "output_type": "display_data"
    },
    {
     "data": {
      "image/png": "[encoded data removed]",
      "text/plain": [
       "<Figure size 800x600 with 1 Axes>"
      ]
     },
     "metadata": {},
     "output_type": "display_data"
    },
    {
     "data": {
      "image/png": "[encoded data removed]",
      "text/plain": [
       "<Figure size 800x600 with 1 Axes>"
      ]
     },
     "metadata": {},
     "output_type": "display_data"
    }
   ],
   "source": [
    "import pandas as pd\n",
    "import seaborn as sns\n",
    "import matplotlib.pyplot as plt\n",
    "\n",
    "# Step 1: Create quintiles\n",
    "clinic_with_demo['black_quintile'] = pd.qcut(clinic_with_demo['pct_black'], q=5, labels=[1, 2, 3, 4, 5])\n",
    "clinic_with_demo['white_quintile'] = pd.qcut(clinic_with_demo['pct_white'], q=5, labels=[1, 2, 3, 4, 5])\n",
    "clinic_with_demo['poverty_quintile'] = pd.qcut(clinic_with_demo['pct_poverty'], q=5, labels=[1, 2, 3, 4, 5])\n",
    "\n",
    "# Step 2: Ensure Five Star is numeric\n",
    "clinic_with_demo['Five Star'] = pd.to_numeric(clinic_with_demo['Five Star'], errors='coerce')\n",
    "\n",
    "# Step 3: Melt the data\n",
    "clinic_with_demo_melted = clinic_with_demo.melt(\n",
    "    id_vars='Five Star',\n",
    "    value_vars=['black_quintile', 'white_quintile', 'poverty_quintile'],\n",
    "    var_name='Demographic',\n",
    "    value_name='Quintile'\n",
    ")\n",
    "\n",
    "# Step 4: Define label mapping\n",
    "label_map = {\n",
    "    'black_quintile': 'Percent Black',\n",
    "    'white_quintile': 'Percent White',\n",
    "    'poverty_quintile': 'Percent Below Poverty Line'\n",
    "}\n",
    "\n",
    "# Step 5: Plot by filtering melted dataframe\n",
    "for key, label in label_map.items():\n",
    "    subset = clinic_with_demo_melted[clinic_with_demo_melted['Demographic'] == key]\n",
    "    \n",
    "    plt.figure(figsize=(8, 6))\n",
    "    sns.boxplot(data=subset, x='Quintile', y='Five Star')\n",
    "    plt.title(f'Five Star Rating by Quintiles of {label}')\n",
    "    plt.xlabel(f'{label} Quintile (1 = Lowest, 5 = Highest)')\n",
    "    plt.ylabel('Five Star Rating')\n",
    "    plt.ylim(0, 5)\n",
    "    plt.tight_layout()\n",
    "    plt.show()\n"
   ]
  },
  {
   "cell_type": "code",
   "execution_count": 18,
   "id": "6b68c3f4",
   "metadata": {},
   "outputs": [
    {
     "name": "stderr",
     "output_type": "stream",
     "text": [
      "C:\\Users\\Carrie Arnold\\AppData\\Local\\Temp\\ipykernel_28204\\228883075.py:1: FutureWarning: The default of observed=False is deprecated and will be changed to True in a future version of pandas. Pass observed=False to retain current behavior or observed=True to adopt the future default and silence this warning.\n",
      "  clinic_with_demo.groupby('black_quintile')['Five Star'].mean()\n",
      "C:\\Users\\Carrie Arnold\\AppData\\Local\\Temp\\ipykernel_28204\\228883075.py:5: FutureWarning: The default of observed=False is deprecated and will be changed to True in a future version of pandas. Pass observed=False to retain current behavior or observed=True to adopt the future default and silence this warning.\n",
      "  quintile_summary = clinic_with_demo.groupby(\"black_quintile\")[\"Five Star\"].mean().reset_index()\n"
     ]
    }
   ],
   "source": [
    "clinic_with_demo.groupby('black_quintile')['Five Star'].mean()\n",
    "\n",
    "\n",
    "# Group by quartile and get average five-star rating\n",
    "quintile_summary = clinic_with_demo.groupby(\"black_quintile\")[\"Five Star\"].mean().reset_index()\n",
    "\n",
    "# Rename columns for clarity in Datawrapper\n",
    "quintile_summary.columns = [\"Percentage of Black residents\", \"Average Five-Star Rating\"]\n",
    "\n",
    "# Save to CSV for Datawrapper\n",
    "quintile_summary.to_csv(\"black_quintile_summary.csv\", index=False)"
   ]
  },
  {
   "cell_type": "code",
   "execution_count": 19,
   "id": "0e3aa893",
   "metadata": {},
   "outputs": [
    {
     "name": "stderr",
     "output_type": "stream",
     "text": [
      "C:\\Users\\Carrie Arnold\\AppData\\Local\\Temp\\ipykernel_28204\\2006292836.py:1: FutureWarning: The default of observed=False is deprecated and will be changed to True in a future version of pandas. Pass observed=False to retain current behavior or observed=True to adopt the future default and silence this warning.\n",
      "  clinic_with_demo.groupby('white_quintile')['Five Star'].mean()\n",
      "C:\\Users\\Carrie Arnold\\AppData\\Local\\Temp\\ipykernel_28204\\2006292836.py:5: FutureWarning: The default of observed=False is deprecated and will be changed to True in a future version of pandas. Pass observed=False to retain current behavior or observed=True to adopt the future default and silence this warning.\n",
      "  quintile_white = clinic_with_demo.groupby(\"white_quintile\")[\"Five Star\"].mean().reset_index()\n"
     ]
    }
   ],
   "source": [
    "clinic_with_demo.groupby('white_quintile')['Five Star'].mean()\n",
    "\n",
    "\n",
    "# Group by quartile and get average five-star rating\n",
    "quintile_white = clinic_with_demo.groupby(\"white_quintile\")[\"Five Star\"].mean().reset_index()\n",
    "\n",
    "# Rename columns for clarity in Datawrapper\n",
    "quintile_white.columns = [\"Percentage of white residents\", \"Average Five-Star Rating\"]\n",
    "\n",
    "# Save to CSV for Datawrapper\n",
    "quintile_white.to_csv(\"white_quintile_summary.csv\", index=False)"
   ]
  },
  {
   "cell_type": "code",
   "execution_count": 20,
   "id": "b24e5e23",
   "metadata": {},
   "outputs": [
    {
     "name": "stderr",
     "output_type": "stream",
     "text": [
      "C:\\Users\\Carrie Arnold\\AppData\\Local\\Temp\\ipykernel_28204\\2864888509.py:1: FutureWarning: The default of observed=False is deprecated and will be changed to True in a future version of pandas. Pass observed=False to retain current behavior or observed=True to adopt the future default and silence this warning.\n",
      "  clinic_with_demo.groupby('poverty_quintile')['Five Star'].mean()\n",
      "C:\\Users\\Carrie Arnold\\AppData\\Local\\Temp\\ipykernel_28204\\2864888509.py:5: FutureWarning: The default of observed=False is deprecated and will be changed to True in a future version of pandas. Pass observed=False to retain current behavior or observed=True to adopt the future default and silence this warning.\n",
      "  quintile_poverty = clinic_with_demo.groupby(\"poverty_quintile\")[\"Five Star\"].mean().reset_index()\n"
     ]
    }
   ],
   "source": [
    "clinic_with_demo.groupby('poverty_quintile')['Five Star'].mean()\n",
    "\n",
    "\n",
    "# Group by quartile and get average five-star rating\n",
    "quintile_poverty = clinic_with_demo.groupby(\"poverty_quintile\")[\"Five Star\"].mean().reset_index()\n",
    "\n",
    "# Rename columns for clarity in Datawrapper\n",
    "quintile_poverty.columns = [\"Percentage below the poverty line\", \"Average Five-Star Rating\"]\n",
    "\n",
    "# Save to CSV for Datawrapper\n",
    "quintile_poverty.to_csv(\"poverty_quintile_summary.csv\", index=False)"
   ]
  },
  {
   "cell_type": "code",
   "execution_count": 21,
   "id": "b7ee812a",
   "metadata": {},
   "outputs": [
    {
     "name": "stdout",
     "output_type": "stream",
     "text": [
      "\n",
      "=== Five Star Ratings by Percent Black Quintile ===\n",
      "                        count  mean  median   std  min  max\n",
      "Percent Black Quintile                                     \n",
      "1                        1382  3.01     3.0  1.06  1.0  5.0\n",
      "2                        1394  3.02     3.0  1.09  1.0  5.0\n",
      "3                        1372  2.88     3.0  1.06  1.0  5.0\n",
      "4                        1398  2.72     3.0  1.06  1.0  5.0\n",
      "5                        1394  2.47     2.0  1.03  1.0  5.0\n",
      "\n",
      "=== Five Star Ratings by Percent White Quintile ===\n",
      "                        count  mean  median   std  min  max\n",
      "Percent White Quintile                                     \n",
      "1                        1385  2.61     3.0  1.11  1.0  5.0\n",
      "2                        1389  2.83     3.0  1.09  1.0  5.0\n",
      "3                        1395  2.87     3.0  1.08  1.0  5.0\n",
      "4                        1386  2.91     3.0  1.07  1.0  5.0\n",
      "5                        1385  2.88     3.0  1.02  1.0  5.0\n",
      "\n",
      "=== Five Star Ratings by Percent Below Poverty Line Quintile ===\n",
      "                                     count  mean  median   std  min  max\n",
      "Percent Below Poverty Line Quintile                                     \n",
      "1                                     1365  3.09     3.0  1.10  1.0  5.0\n",
      "2                                     1387  2.92     3.0  1.07  1.0  5.0\n",
      "3                                     1391  2.80     3.0  1.07  1.0  5.0\n",
      "4                                     1415  2.75     3.0  1.07  1.0  5.0\n",
      "5                                     1381  2.54     3.0  1.01  1.0  5.0\n"
     ]
    },
    {
     "name": "stderr",
     "output_type": "stream",
     "text": [
      "C:\\Users\\Carrie Arnold\\AppData\\Local\\Temp\\ipykernel_28204\\1348954956.py:7: FutureWarning: The default of observed=False is deprecated and will be changed to True in a future version of pandas. Pass observed=False to retain current behavior or observed=True to adopt the future default and silence this warning.\n",
      "  .groupby(demo_var)['Five Star']\n"
     ]
    }
   ],
   "source": [
    "# Calculate summary statistics\n",
    "summary_stats = {}\n",
    "\n",
    "for demo_var, label in label_map.items():\n",
    "    stats = (\n",
    "        clinic_with_demo\n",
    "        .groupby(demo_var)['Five Star']\n",
    "        .agg(['count', 'mean', 'median', 'std', 'min', 'max'])\n",
    "        .rename_axis(f'{label} Quintile')\n",
    "    )\n",
    "    summary_stats[label] = stats\n",
    "\n",
    "# Display each table\n",
    "for label, table in summary_stats.items():\n",
    "    print(f\"\\n=== Five Star Ratings by {label} Quintile ===\")\n",
    "    print(table.round(2))\n"
   ]
  },
  {
   "cell_type": "code",
   "execution_count": 22,
   "id": "c1fd536c",
   "metadata": {},
   "outputs": [],
   "source": [
    "import numpy as np\n",
    "import matplotlib.pyplot as plt\n",
    "\n",
    "%matplotlib inline\n",
    "\n"
   ]
  },
  {
   "cell_type": "code",
   "execution_count": 23,
   "id": "9345b1ef",
   "metadata": {},
   "outputs": [
    {
     "data": {
      "text/plain": [
       "<Axes: xlabel='Five Star', ylabel='pct_black'>"
      ]
     },
     "execution_count": 23,
     "metadata": {},
     "output_type": "execute_result"
    },
    {
     "data": {
      "image/png": "[encoded data removed]",
      "text/plain": [
       "<Figure size 640x480 with 1 Axes>"
      ]
     },
     "metadata": {},
     "output_type": "display_data"
    }
   ],
   "source": [
    "clinic_with_demo.plot(x='Five Star', y='pct_black', kind='scatter')"
   ]
  },
  {
   "cell_type": "code",
   "execution_count": null,
   "id": "998c4ab0",
   "metadata": {},
   "outputs": [
    {
     "data": {
      "text/plain": [
       "Five Star      float64\n",
       "pct_poverty    float64\n",
       "pct_black      float64\n",
       "dtype: object"
      ]
     },
     "execution_count": 24,
     "metadata": {},
     "output_type": "execute_result"
    }
   ],
   "source": [
    "#Set up linear regression models\n",
    "\n",
    "# Filter to remove missing values\n",
    "regression_df = clinic_with_demo[['Five Star', 'pct_poverty', 'pct_black']].dropna()\n",
    "\n",
    "# Optional: check types\n",
    "regression_df.dtypes\n"
   ]
  },
  {
   "cell_type": "code",
   "execution_count": 25,
   "id": "0f647886",
   "metadata": {},
   "outputs": [
    {
     "name": "stdout",
     "output_type": "stream",
     "text": [
      "Poverty regression: slope = -1.481, intercept = 3.051\n",
      "Black population regression: slope = -0.889, intercept = 2.985\n"
     ]
    }
   ],
   "source": [
    "# Run simple linear regression with np.polyfit\n",
    "\n",
    "slope_pov, intercept_pov = np.polyfit(regression_df['pct_poverty'], regression_df['Five Star'], 1)\n",
    "print(f\"Poverty regression: slope = {slope_pov:.3f}, intercept = {intercept_pov:.3f}\")\n",
    "\n",
    "slope_black, intercept_black = np.polyfit(regression_df['pct_black'], regression_df['Five Star'], 1)\n",
    "print(f\"Black population regression: slope = {slope_black:.3f}, intercept = {intercept_black:.3f}\")\n"
   ]
  },
  {
   "cell_type": "code",
   "execution_count": 26,
   "id": "7b52a8c9",
   "metadata": {},
   "outputs": [
    {
     "data": {
      "image/png": "[encoded data removed]",
      "text/plain": [
       "<Figure size 600x400 with 1 Axes>"
      ]
     },
     "metadata": {},
     "output_type": "display_data"
    },
    {
     "data": {
      "image/png": "[encoded data removed]",
      "text/plain": [
       "<Figure size 600x400 with 1 Axes>"
      ]
     },
     "metadata": {},
     "output_type": "display_data"
    }
   ],
   "source": [
    "# create a plot of the regression model\n",
    "\n",
    "import matplotlib.pyplot as plt\n",
    "\n",
    "# Poverty\n",
    "plt.figure(figsize=(6, 4))\n",
    "plt.scatter(regression_df['pct_poverty'], regression_df['Five Star'], alpha=0.5)\n",
    "plt.plot(regression_df['pct_poverty'],\n",
    "         slope_pov * regression_df['pct_poverty'] + intercept_pov,\n",
    "         color='red')\n",
    "plt.title('Clinic Quality vs % Poverty')\n",
    "plt.xlabel('% Poverty')\n",
    "plt.ylabel('Five Star Rating')\n",
    "plt.grid(True)\n",
    "plt.show()\n",
    "\n",
    "# Black Population\n",
    "plt.figure(figsize=(6, 4))\n",
    "plt.scatter(regression_df['pct_black'], regression_df['Five Star'], alpha=0.5)\n",
    "plt.plot(regression_df['pct_black'],\n",
    "         slope_black * regression_df['pct_black'] + intercept_black,\n",
    "         color='red')\n",
    "plt.title('Clinic Quality vs % Black Population')\n",
    "plt.xlabel('% Black')\n",
    "plt.ylabel('Five Star Rating')\n",
    "plt.grid(True)\n",
    "plt.show()\n"
   ]
  },
  {
   "cell_type": "code",
   "execution_count": 29,
   "id": "fdaecb7f",
   "metadata": {},
   "outputs": [
    {
     "name": "stdout",
     "output_type": "stream",
     "text": [
      "                            OLS Regression Results                            \n",
      "==============================================================================\n",
      "Dep. Variable:              Five Star   R-squared:                       0.047\n",
      "Model:                            OLS   Adj. R-squared:                  0.046\n",
      "Method:                 Least Squares   F-statistic:                     169.6\n",
      "Date:                Sun, 27 Jul 2025   Prob (F-statistic):           1.24e-72\n",
      "Time:                        21:56:36   Log-Likelihood:                -10213.\n",
      "No. Observations:                6939   AIC:                         2.043e+04\n",
      "Df Residuals:                    6936   BIC:                         2.045e+04\n",
      "Df Model:                           2                                         \n",
      "Covariance Type:            nonrobust                                         \n",
      "===============================================================================\n",
      "                  coef    std err          t      P>|t|      [0.025      0.975]\n",
      "-------------------------------------------------------------------------------\n",
      "const           3.0978      0.022    142.352      0.000       3.055       3.140\n",
      "pct_poverty    -0.9175      0.119     -7.689      0.000      -1.151      -0.684\n",
      "pct_black      -0.7245      0.057    -12.653      0.000      -0.837      -0.612\n",
      "==============================================================================\n",
      "Omnibus:                       79.539   Durbin-Watson:                   1.765\n",
      "Prob(Omnibus):                  0.000   Jarque-Bera (JB):               53.184\n",
      "Skew:                           0.080   Prob(JB):                     2.83e-12\n",
      "Kurtosis:                       2.602   Cond. No.                         9.97\n",
      "==============================================================================\n",
      "\n",
      "Notes:\n",
      "[1] Standard Errors assume that the covariance matrix of the errors is correctly specified.\n"
     ]
    }
   ],
   "source": [
    "# multiple regression model\n",
    "\n",
    "import statsmodels.api as sm\n",
    "\n",
    "# Drop rows with missing or infinite values in the relevant columns\n",
    "df_clean = clinic_with_demo[['Five Star', 'pct_poverty', 'pct_black']].replace([np.inf, -np.inf], np.nan).dropna()\n",
    "\n",
    "# Define predictors and add constant\n",
    "X = df_clean[['pct_poverty', 'pct_black']]\n",
    "X = sm.add_constant(X)\n",
    "\n",
    "# Define outcome variable\n",
    "y = df_clean['Five Star']\n",
    "\n",
    "# Fit the model\n",
    "model = sm.OLS(y, X).fit()\n",
    "\n",
    "# Print summary\n",
    "print(model.summary())\n",
    "\n"
   ]
  }
 ],
 "metadata": {
  "kernelspec": {
   "display_name": "3.12.0",
   "language": "python",
   "name": "python3"
  },
  "language_info": {
   "codemirror_mode": {
    "name": "ipython",
    "version": 3
   },
   "file_extension": ".py",
   "mimetype": "text/x-python",
   "name": "python",
   "nbconvert_exporter": "python",
   "pygments_lexer": "ipython3",
   "version": "3.12.0"
  }
 },
 "nbformat": 4,
 "nbformat_minor": 5
}
