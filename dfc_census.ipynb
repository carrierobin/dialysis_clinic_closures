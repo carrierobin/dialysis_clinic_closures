{
 "cells": [
  {
   "cell_type": "code",
   "execution_count": 3,
   "id": "653cc907",
   "metadata": {},
   "outputs": [
    {
     "name": "stdout",
     "output_type": "stream",
     "text": [
      "<class 'pandas.core.frame.DataFrame'>\n",
      "RangeIndex: 7556 entries, 0 to 7555\n",
      "Data columns (total 16 columns):\n",
      " #   Column                            Non-Null Count  Dtype  \n",
      "---  ------                            --------------  -----  \n",
      " 0   CCN                               7556 non-null   int64  \n",
      " 1   Network                           7556 non-null   int64  \n",
      " 2   Facility Name                     7556 non-null   object \n",
      " 3   Five Star Date                    7556 non-null   object \n",
      " 4   Five Star                         7013 non-null   float64\n",
      " 5   Five Star Data Availability Code  7556 non-null   int64  \n",
      " 6   Address Line 1                    7556 non-null   object \n",
      " 7   Address Line 2                    1262 non-null   object \n",
      " 8   City                              7556 non-null   object \n",
      " 9   State                             7556 non-null   object \n",
      " 10  Zip                               7556 non-null   int64  \n",
      " 11  County/Parish                     7556 non-null   object \n",
      " 12  dfc_new                           7556 non-null   object \n",
      " 13  full_address                      7556 non-null   object \n",
      " 14  latitude                          7556 non-null   float64\n",
      " 15  longitude                         7556 non-null   float64\n",
      "dtypes: float64(3), int64(4), object(9)\n",
      "memory usage: 944.6+ KB\n"
     ]
    }
   ],
   "source": [
    "#read in the data\n",
    "import pandas as pd\n",
    "import requests\n",
    "import urllib.parse\n",
    "import time\n",
    "\n",
    "df2025=pd.read_csv(\"dfc_2025_geocoded.csv\")\n",
    "df2025.info()"
   ]
  },
  {
   "cell_type": "code",
   "execution_count": null,
   "id": "9ed14676",
   "metadata": {},
   "outputs": [
    {
     "name": "stdout",
     "output_type": "stream",
     "text": [
      "<class 'pandas.core.frame.DataFrame'>\n",
      "RangeIndex: 7556 entries, 0 to 7555\n",
      "Data columns (total 16 columns):\n",
      " #   Column                            Non-Null Count  Dtype  \n",
      "---  ------                            --------------  -----  \n",
      " 0   ccn                               7556 non-null   int64  \n",
      " 1   network                           7556 non-null   int64  \n",
      " 2   facility name                     7556 non-null   object \n",
      " 3   five star date                    7556 non-null   object \n",
      " 4   five star                         7013 non-null   float64\n",
      " 5   five star data availability code  7556 non-null   int64  \n",
      " 6   address line 1                    7556 non-null   object \n",
      " 7   address line 2                    1262 non-null   object \n",
      " 8   city                              7556 non-null   object \n",
      " 9   state                             7556 non-null   object \n",
      " 10  zip                               7556 non-null   int64  \n",
      " 11  county                            7556 non-null   object \n",
      " 12  dfc_new                           7556 non-null   object \n",
      " 13  full_address                      7556 non-null   object \n",
      " 14  latitude                          7556 non-null   float64\n",
      " 15  longitude                         7556 non-null   float64\n",
      "dtypes: float64(3), int64(4), object(9)\n",
      "memory usage: 944.6+ KB\n"
     ]
    }
   ],
   "source": [
    "#time to tidy\n",
    "\n",
    "#remove white space\n",
    "df2025.columns = df2025.columns.str.strip()\n",
    "\n",
    "df2025.rename(columns={\"CMS Certification Number (CCN)\": \"CCN\"}, inplace=True)\n",
    "df2025.rename(columns={\"City/Town\": \"City\"}, inplace=True)\n",
    "df2025.rename(columns={\"ZIP Code\": \"Zip\"}, inplace=True)\n",
    "df2025.rename(columns={\"County/Parish\": \"County\"}, inplace=True)\n",
    "\n",
    "#make all lowercase\n",
    "\n",
    "df2025.columns = df2025.columns.str.lower()\n",
    "\n",
    "#make facility names lowercase\n",
    "df2025['facility name'] = df2025['facility name'].str.lower()\n",
    "\n",
    "##verify\n",
    "df2025.info()"
   ]
  },
  {
   "cell_type": "code",
   "execution_count": 5,
   "id": "8036d2af",
   "metadata": {},
   "outputs": [],
   "source": [
    "#Function to Get Tract from Coordinates\n",
    "\n",
    "def get_census_tract(latitude, longitude):\n",
    "    base_url = \"https://geocoding.geo.census.gov/geocoder/geographies/coordinates\"\n",
    "    params = {\n",
    "        \"x\": longitude,\n",
    "        \"y\": latitude,\n",
    "        \"benchmark\": \"Public_AR_Census2020\",\n",
    "        \"vintage\": \"Census2020_Census2020\",\n",
    "        \"format\": \"json\"\n",
    "    }\n",
    "    response = requests.get(base_url, params=params)\n",
    "    try:\n",
    "        data = response.json()\n",
    "        geos = data['result']['geographies']['Census Tracts'][0]\n",
    "        return geos['GEOID']  # This is the full 11-digit tract FIPS code\n",
    "    except (IndexError, KeyError):\n",
    "        return None"
   ]
  },
  {
   "cell_type": "code",
   "execution_count": 8,
   "id": "781669d5",
   "metadata": {},
   "outputs": [],
   "source": [
    "#apply to my dataframe\n",
    "tracts = []\n",
    "for idx, row in df2025.iterrows():\n",
    "    latitude = row['latitude']\n",
    "    longitude = row['longitude']\n",
    "    tract = get_census_tract(latitude, longitude)\n",
    "    tracts.append(tract)\n",
    "    time.sleep(0.25)  # Sleep to avoid rate-limiting and be nice to API\n",
    "\n",
    "# Add result to DataFrame\n",
    "df2025['census_tract'] = tracts\n",
    "\n",
    "df2025.to_csv(\"df2025_with_tracts.csv\", index=False)"
   ]
  },
  {
   "cell_type": "code",
   "execution_count": null,
   "id": "494343a6",
   "metadata": {},
   "outputs": [],
   "source": []
  }
 ],
 "metadata": {
  "kernelspec": {
   "display_name": "3.12.0",
   "language": "python",
   "name": "python3"
  },
  "language_info": {
   "codemirror_mode": {
    "name": "ipython",
    "version": 3
   },
   "file_extension": ".py",
   "mimetype": "text/x-python",
   "name": "python",
   "nbconvert_exporter": "python",
   "pygments_lexer": "ipython3",
   "version": "3.12.0"
  }
 },
 "nbformat": 4,
 "nbformat_minor": 5
}
