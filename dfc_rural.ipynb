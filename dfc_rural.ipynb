{
 "cells": [
  {
   "cell_type": "code",
   "execution_count": 4,
   "id": "1513776d",
   "metadata": {},
   "outputs": [
    {
     "name": "stdout",
     "output_type": "stream",
     "text": [
      "<class 'pandas.core.frame.DataFrame'>\n",
      "RangeIndex: 7556 entries, 0 to 7555\n",
      "Data columns (total 16 columns):\n",
      " #   Column                            Non-Null Count  Dtype  \n",
      "---  ------                            --------------  -----  \n",
      " 0   CCN                               7556 non-null   int64  \n",
      " 1   Network                           7556 non-null   int64  \n",
      " 2   Facility Name                     7556 non-null   object \n",
      " 3   Five Star Date                    7556 non-null   object \n",
      " 4   Five Star                         7013 non-null   float64\n",
      " 5   Five Star Data Availability Code  7556 non-null   int64  \n",
      " 6   Address Line 1                    7556 non-null   object \n",
      " 7   Address Line 2                    1262 non-null   object \n",
      " 8   City                              7556 non-null   object \n",
      " 9   State                             7556 non-null   object \n",
      " 10  Zip                               7556 non-null   int64  \n",
      " 11  County/Parish                     7556 non-null   object \n",
      " 12  dfc_new                           7556 non-null   object \n",
      " 13  full_address                      7556 non-null   object \n",
      " 14  latitude                          7556 non-null   float64\n",
      " 15  longitude                         7556 non-null   float64\n",
      "dtypes: float64(3), int64(4), object(9)\n",
      "memory usage: 944.6+ KB\n"
     ]
    },
    {
     "data": {
      "text/plain": [
       "CCN                                   int64\n",
       "Network                               int64\n",
       "Facility Name                        object\n",
       "Five Star Date                       object\n",
       "Five Star                           float64\n",
       "Five Star Data Availability Code      int64\n",
       "Address Line 1                       object\n",
       "Address Line 2                       object\n",
       "City                                 object\n",
       "State                                object\n",
       "Zip                                   int64\n",
       "County/Parish                        object\n",
       "dfc_new                              object\n",
       "full_address                         object\n",
       "latitude                            float64\n",
       "longitude                           float64\n",
       "dtype: object"
      ]
     },
     "execution_count": 4,
     "metadata": {},
     "output_type": "execute_result"
    }
   ],
   "source": [
    "#Getting basic info about the file\n",
    "\n",
    "import pandas as pd\n",
    "import requests\n",
    "import urllib.parse\n",
    "import time\n",
    "\n",
    "rural = pd.read_csv(\"dfc_2025_geocoded_filter.csv\")\n",
    "rural.shape\n",
    "rural.info()\n",
    "rural.dtypes"
   ]
  },
  {
   "cell_type": "markdown",
   "id": "53339546",
   "metadata": {},
   "source": [
    "# Renaming and cleaning column headers"
   ]
  },
  {
   "cell_type": "code",
   "execution_count": 9,
   "id": "bf4c7bac",
   "metadata": {},
   "outputs": [
    {
     "name": "stdout",
     "output_type": "stream",
     "text": [
      "<class 'pandas.core.frame.DataFrame'>\n",
      "RangeIndex: 7556 entries, 0 to 7555\n",
      "Data columns (total 17 columns):\n",
      " #   Column                            Non-Null Count  Dtype  \n",
      "---  ------                            --------------  -----  \n",
      " 0   ccn                               7556 non-null   int64  \n",
      " 1   network                           7556 non-null   int64  \n",
      " 2   facility name                     7556 non-null   object \n",
      " 3   five star date                    7556 non-null   object \n",
      " 4   five star                         7013 non-null   float64\n",
      " 5   five star data availability code  7556 non-null   int64  \n",
      " 6   address line 1                    7556 non-null   object \n",
      " 7   address line 2                    1262 non-null   object \n",
      " 8   city                              7556 non-null   object \n",
      " 9   state                             7556 non-null   object \n",
      " 10  zip                               7556 non-null   int64  \n",
      " 11  county                            7556 non-null   object \n",
      " 12  dfc_new                           7556 non-null   object \n",
      " 13  full_address                      7556 non-null   object \n",
      " 14  latitude                          7556 non-null   float64\n",
      " 15  longitude                         7556 non-null   float64\n",
      " 16  county_state                      7556 non-null   object \n",
      "dtypes: float64(3), int64(4), object(10)\n",
      "memory usage: 1003.7+ KB\n",
      "     ccn  network                          facility name       five star date  \\\n",
      "0  12306        8            CHILDRENS HOSPITAL DIALYSIS  01Jan2020-31Dec2023   \n",
      "1  12500        8                       FMC CAPITOL CITY  01Jan2020-31Dec2023   \n",
      "2  12501        8                DaVita Gadsden Dialysis  01Jan2020-31Dec2023   \n",
      "3  12502        8  DaVita Tuscaloosa University Dialysis  01Jan2020-31Dec2023   \n",
      "4  12505        8                  DaVita PDI-Montgomery  01Jan2020-31Dec2023   \n",
      "\n",
      "   five star  five star data availability code          address line 1  \\\n",
      "0        NaN                               260   1600 7TH AVENUE SOUTH   \n",
      "1        1.0                                 1    255 S JACKSON STREET   \n",
      "2        2.0                                 1  409 SOUTH FIRST STREET   \n",
      "3        1.0                                 1         220 15TH STREET   \n",
      "4        3.0                                 1      1001 FOREST AVENUE   \n",
      "\n",
      "  address line 2        city state    zip      county   dfc_new  \\\n",
      "0            NaN  BIRMINGHAM    AL  35233   Jefferson  existing   \n",
      "1            NaN  MONTGOMERY    AL  36104  Montgomery  existing   \n",
      "2            NaN     GADSDEN    AL  35901      Etowah  existing   \n",
      "3            NaN  TUSCALOOSA    AL  35401  Tuscaloosa  existing   \n",
      "4            NaN  MONTGOMERY    AL  36106  Montgomery  existing   \n",
      "\n",
      "                                  full_address   latitude  longitude  \\\n",
      "0  1600 7TH AVENUE SOUTH, BIRMINGHAM, AL 35233  33.504018 -86.805215   \n",
      "1   255 S JACKSON STREET, MONTGOMERY, AL 36104  32.374048 -86.295939   \n",
      "2    409 SOUTH FIRST STREET, GADSDEN, AL 35901  34.006750 -86.003132   \n",
      "3        220 15TH STREET, TUSCALOOSA, AL 35401  33.198990 -87.538230   \n",
      "4     1001 FOREST AVENUE, MONTGOMERY, AL 36106  32.369331 -86.285969   \n",
      "\n",
      "     county_state  \n",
      "0   Jefferson, AL  \n",
      "1  Montgomery, AL  \n",
      "2      Etowah, AL  \n",
      "3  Tuscaloosa, AL  \n",
      "4  Montgomery, AL  \n"
     ]
    }
   ],
   "source": [
    "#make everything lower case\n",
    "rural.columns = rural.columns.str.lower()\n",
    "\n",
    "#rename county/parish column\n",
    "rural.rename(columns={\"county/parish\": \"county\"}, inplace=True)\n",
    "\n",
    "#strip out extra white space\n",
    "rural['county'] = rural['county'].str.strip()\n",
    "rural['state'] = rural['state'].str.strip()\n",
    "\n",
    "#make combined county/state variable\n",
    "rural['county_state'] = rural['county'] + \", \" + rural['state']\n",
    "rural['county_state'] = rural['county_state'].str.strip()\n",
    "\n",
    "#double checking everything worked\n",
    "rural.info()\n",
    "rural.dtypes\n",
    "print(rural.head())"
   ]
  },
  {
   "cell_type": "code",
   "execution_count": 11,
   "id": "6d8ac025",
   "metadata": {},
   "outputs": [],
   "source": [
    "# List of target counties in Oregon\n",
    "target_counties = [\n",
    "    \"Tillamook, OR\",\n",
    "    \"Clatsop, OR\",\n",
    "    \"Lincoln, OR\",\n",
    "    \"Polk, OR\",\n",
    "    \"Washington, OR\",\n",
    "    \"Yamhill, OR\"\n",
    "]\n",
    "\n",
    "# Filter the DataFrame\n",
    "filtered_df = rural[rural[\"county_state\"].isin(target_counties)]\n",
    "\n",
    "# Save the result to a new CSV\n",
    "filtered_df.to_csv(\"dfc_rural.csv\", index=False)\n"
   ]
  }
 ],
 "metadata": {
  "kernelspec": {
   "display_name": "3.12.0",
   "language": "python",
   "name": "python3"
  },
  "language_info": {
   "codemirror_mode": {
    "name": "ipython",
    "version": 3
   },
   "file_extension": ".py",
   "mimetype": "text/x-python",
   "name": "python",
   "nbconvert_exporter": "python",
   "pygments_lexer": "ipython3",
   "version": "3.12.0"
  }
 },
 "nbformat": 4,
 "nbformat_minor": 5
}
