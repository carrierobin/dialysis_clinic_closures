{
 "cells": [
  {
   "cell_type": "code",
   "execution_count": 1,
   "id": "d934b9af",
   "metadata": {},
   "outputs": [
    {
     "name": "stdout",
     "output_type": "stream",
     "text": [
      "Min clinic count: 0\n",
      "Max clinic count: 0\n"
     ]
    }
   ],
   "source": [
    "import json\n",
    "\n",
    "with open(\"final_clinic_density.geojson\", \"r\") as f:\n",
    "    data = json.load(f)\n",
    "\n",
    "clinic_counts = [\n",
    "    feature[\"properties\"][\"clinic_count\"]\n",
    "    for feature in data[\"features\"]\n",
    "    if \"clinic_count\" in feature[\"properties\"] and isinstance(feature[\"properties\"][\"clinic_count\"], (int, float))\n",
    "]\n",
    "\n",
    "print(\"Min clinic count:\", min(clinic_counts))\n",
    "print(\"Max clinic count:\", max(clinic_counts))"
   ]
  }
 ],
 "metadata": {
  "kernelspec": {
   "display_name": "3.12.0",
   "language": "python",
   "name": "python3"
  },
  "language_info": {
   "codemirror_mode": {
    "name": "ipython",
    "version": 3
   },
   "file_extension": ".py",
   "mimetype": "text/x-python",
   "name": "python",
   "nbconvert_exporter": "python",
   "pygments_lexer": "ipython3",
   "version": "3.12.0"
  }
 },
 "nbformat": 4,
 "nbformat_minor": 5
}
