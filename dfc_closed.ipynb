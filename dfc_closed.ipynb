{
 "cells": [
  {
   "cell_type": "code",
   "execution_count": 1,
   "id": "f248fcd3",
   "metadata": {},
   "outputs": [
    {
     "name": "stdout",
     "output_type": "stream",
     "text": [
      "<class 'pandas.core.frame.DataFrame'>\n",
      "RangeIndex: 7578 entries, 0 to 7577\n",
      "Data columns (total 16 columns):\n",
      " #   Column                            Non-Null Count  Dtype  \n",
      "---  ------                            --------------  -----  \n",
      " 0   CCN                               7578 non-null   int64  \n",
      " 1   NETWORK                           7578 non-null   int64  \n",
      " 2   Facility Name                     7578 non-null   object \n",
      " 3   Five Star Date                    7578 non-null   object \n",
      " 4   Five Star                         7578 non-null   object \n",
      " 5   Five Star Data Availability Code  7578 non-null   int64  \n",
      " 6   Address Line 1                    7578 non-null   object \n",
      " 7   Address Line 2                    1083 non-null   object \n",
      " 8   City                              7578 non-null   object \n",
      " 9   State                             7578 non-null   object \n",
      " 10  Zip                               7578 non-null   int64  \n",
      " 11  County                            7578 non-null   object \n",
      " 12  dfc_closed                        7578 non-null   object \n",
      " 13  full_address                      7578 non-null   object \n",
      " 14  latitude                          7578 non-null   float64\n",
      " 15  longitude                         7578 non-null   float64\n",
      "dtypes: float64(2), int64(4), object(10)\n",
      "memory usage: 947.4+ KB\n"
     ]
    }
   ],
   "source": [
    "#read in the data\n",
    "\n",
    "import pandas as pd\n",
    "import requests\n",
    "import urllib.parse\n",
    "import time\n",
    "\n",
    "df2020 = pd.read_csv(\"dfc_2020_geocoded.csv\")\n",
    "df2020.info()"
   ]
  },
  {
   "cell_type": "code",
   "execution_count": null,
   "id": "7c23cda6",
   "metadata": {},
   "outputs": [
    {
     "data": {
      "text/plain": [
       "dfc_closed\n",
       "open      6832\n",
       "closed     746\n",
       "Name: count, dtype: int64"
      ]
     },
     "execution_count": 4,
     "metadata": {},
     "output_type": "execute_result"
    }
   ],
   "source": [
    "#confirm entries in dfc_closed\n",
    "df2020['dfc_closed'].value_counts()"
   ]
  },
  {
   "cell_type": "code",
   "execution_count": 5,
   "id": "2512f2a1",
   "metadata": {},
   "outputs": [
    {
     "name": "stdout",
     "output_type": "stream",
     "text": [
      "(746, 16)\n",
      "['closed']\n"
     ]
    }
   ],
   "source": [
    "#filter to only the 'closed' clinics\n",
    "\n",
    "closed_df = df2020[df2020['dfc_closed'] == 'closed']\n",
    "\n",
    "#save to new csv\n",
    "closed_df.to_csv(\"df2020_closed.csv\", index=False)\n",
    "\n",
    "#confirm it worked\n",
    "print(closed_df.shape)\n",
    "print(closed_df['dfc_closed'].unique())"
   ]
  }
 ],
 "metadata": {
  "kernelspec": {
   "display_name": "3.12.0",
   "language": "python",
   "name": "python3"
  },
  "language_info": {
   "codemirror_mode": {
    "name": "ipython",
    "version": 3
   },
   "file_extension": ".py",
   "mimetype": "text/x-python",
   "name": "python",
   "nbconvert_exporter": "python",
   "pygments_lexer": "ipython3",
   "version": "3.12.0"
  }
 },
 "nbformat": 4,
 "nbformat_minor": 5
}
