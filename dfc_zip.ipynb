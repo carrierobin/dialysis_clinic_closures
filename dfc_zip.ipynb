{
 "cells": [
  {
   "cell_type": "code",
   "execution_count": 21,
   "id": "38bca8ec",
   "metadata": {},
   "outputs": [
    {
     "name": "stdout",
     "output_type": "stream",
     "text": [
      "<class 'pandas.core.frame.DataFrame'>\n",
      "RangeIndex: 7578 entries, 0 to 7577\n",
      "Data columns (total 17 columns):\n",
      " #   Column                            Non-Null Count  Dtype  \n",
      "---  ------                            --------------  -----  \n",
      " 0   CCN                               7578 non-null   int64  \n",
      " 1   NETWORK                           7578 non-null   int64  \n",
      " 2   Facility Name                     7578 non-null   object \n",
      " 3   Five Star Date                    7578 non-null   object \n",
      " 4   Five Star                         7578 non-null   object \n",
      " 5   Five Star Data Availability Code  7578 non-null   int64  \n",
      " 6   Address Line 1                    7578 non-null   object \n",
      " 7   Address Line 2                    1083 non-null   object \n",
      " 8   City                              7578 non-null   object \n",
      " 9   State                             7578 non-null   object \n",
      " 10  Zip                               7578 non-null   int64  \n",
      " 11  County                            7578 non-null   object \n",
      " 12  dfc_closed                        7578 non-null   object \n",
      " 13  full_address                      7578 non-null   object \n",
      " 14  latitude                          7578 non-null   float64\n",
      " 15  longitude                         7578 non-null   float64\n",
      " 16  dfc_closed.1                      7578 non-null   object \n",
      "dtypes: float64(2), int64(4), object(11)\n",
      "memory usage: 1006.6+ KB\n",
      "<class 'pandas.core.frame.DataFrame'>\n",
      "RangeIndex: 7556 entries, 0 to 7555\n",
      "Data columns (total 16 columns):\n",
      " #   Column                            Non-Null Count  Dtype  \n",
      "---  ------                            --------------  -----  \n",
      " 0   CCN                               7556 non-null   int64  \n",
      " 1   Network                           7556 non-null   int64  \n",
      " 2   Facility Name                     7556 non-null   object \n",
      " 3   Five Star Date                    7556 non-null   object \n",
      " 4   Five Star                         7013 non-null   float64\n",
      " 5   Five Star Data Availability Code  7556 non-null   int64  \n",
      " 6   Address Line 1                    7556 non-null   object \n",
      " 7   Address Line 2                    1262 non-null   object \n",
      " 8   City                              7556 non-null   object \n",
      " 9   State                             7556 non-null   object \n",
      " 10  Zip                               7556 non-null   int64  \n",
      " 11  County/Parish                     7556 non-null   object \n",
      " 12  dfc_new                           7556 non-null   object \n",
      " 13  full_address                      7556 non-null   object \n",
      " 14  latitude                          7556 non-null   float64\n",
      " 15  longitude                         7556 non-null   float64\n",
      "dtypes: float64(3), int64(4), object(9)\n",
      "memory usage: 944.6+ KB\n"
     ]
    },
    {
     "data": {
      "text/plain": [
       "CCN                                   int64\n",
       "Network                               int64\n",
       "Facility Name                        object\n",
       "Five Star Date                       object\n",
       "Five Star                           float64\n",
       "Five Star Data Availability Code      int64\n",
       "Address Line 1                       object\n",
       "Address Line 2                       object\n",
       "City                                 object\n",
       "State                                object\n",
       "Zip                                   int64\n",
       "County/Parish                        object\n",
       "dfc_new                              object\n",
       "full_address                         object\n",
       "latitude                            float64\n",
       "longitude                           float64\n",
       "dtype: object"
      ]
     },
     "execution_count": 21,
     "metadata": {},
     "output_type": "execute_result"
    }
   ],
   "source": [
    "##Let's get started\n",
    "\n",
    "import pandas as pd\n",
    "import requests\n",
    "import urllib.parse\n",
    "import time\n",
    "\n",
    "df2020 = pd.read_csv(\"dfc_2020_geocoded_filter.csv\")\n",
    "df2025 = pd.read_csv(\"dfc_2025_geocoded_filter.csv\")\n",
    "\n",
    "df2020.shape\n",
    "df2020.info()\n",
    "df2020.dtypes\n",
    "\n",
    "df2025.shape\n",
    "df2025.info()\n",
    "df2025.dtypes"
   ]
  },
  {
   "cell_type": "code",
   "execution_count": 22,
   "id": "01753673",
   "metadata": {},
   "outputs": [
    {
     "name": "stdout",
     "output_type": "stream",
     "text": [
      "<class 'pandas.core.frame.DataFrame'>\n",
      "RangeIndex: 7578 entries, 0 to 7577\n",
      "Data columns (total 18 columns):\n",
      " #   Column                            Non-Null Count  Dtype  \n",
      "---  ------                            --------------  -----  \n",
      " 0   ccn                               7578 non-null   int64  \n",
      " 1   network                           7578 non-null   int64  \n",
      " 2   facility name                     7578 non-null   object \n",
      " 3   five star date                    7578 non-null   object \n",
      " 4   five star                         7578 non-null   object \n",
      " 5   five star data availability code  7578 non-null   int64  \n",
      " 6   address line 1                    7578 non-null   object \n",
      " 7   address line 2                    1083 non-null   object \n",
      " 8   city                              7578 non-null   object \n",
      " 9   state                             7578 non-null   object \n",
      " 10  zip                               7578 non-null   int64  \n",
      " 11  county                            7578 non-null   object \n",
      " 12  dfc_closed                        7578 non-null   object \n",
      " 13  full_address                      7578 non-null   object \n",
      " 14  latitude                          7578 non-null   float64\n",
      " 15  longitude                         7578 non-null   float64\n",
      " 16  dfc_closed                        7578 non-null   object \n",
      " 17  county_state                      7578 non-null   object \n",
      "dtypes: float64(2), int64(4), object(12)\n",
      "memory usage: 1.0+ MB\n",
      "<class 'pandas.core.frame.DataFrame'>\n",
      "RangeIndex: 7556 entries, 0 to 7555\n",
      "Data columns (total 17 columns):\n",
      " #   Column                            Non-Null Count  Dtype  \n",
      "---  ------                            --------------  -----  \n",
      " 0   ccn                               7556 non-null   int64  \n",
      " 1   network                           7556 non-null   int64  \n",
      " 2   facility name                     7556 non-null   object \n",
      " 3   five star date                    7556 non-null   object \n",
      " 4   five star                         7013 non-null   float64\n",
      " 5   five star data availability code  7556 non-null   int64  \n",
      " 6   address line 1                    7556 non-null   object \n",
      " 7   address line 2                    1262 non-null   object \n",
      " 8   city                              7556 non-null   object \n",
      " 9   state                             7556 non-null   object \n",
      " 10  zip                               7556 non-null   int64  \n",
      " 11  county                            7556 non-null   object \n",
      " 12  dfc_new                           7556 non-null   object \n",
      " 13  full_address                      7556 non-null   object \n",
      " 14  latitude                          7556 non-null   float64\n",
      " 15  longitude                         7556 non-null   float64\n",
      " 16  county_state                      7556 non-null   object \n",
      "dtypes: float64(3), int64(4), object(10)\n",
      "memory usage: 1003.7+ KB\n"
     ]
    },
    {
     "data": {
      "text/plain": [
       "ccn                                   int64\n",
       "network                               int64\n",
       "facility name                        object\n",
       "five star date                       object\n",
       "five star                           float64\n",
       "five star data availability code      int64\n",
       "address line 1                       object\n",
       "address line 2                       object\n",
       "city                                 object\n",
       "state                                object\n",
       "zip                                   int64\n",
       "county                               object\n",
       "dfc_new                              object\n",
       "full_address                         object\n",
       "latitude                            float64\n",
       "longitude                           float64\n",
       "county_state                         object\n",
       "dtype: object"
      ]
     },
     "execution_count": 22,
     "metadata": {},
     "output_type": "execute_result"
    }
   ],
   "source": [
    "##convert column headings so everything is consistent and remove whitespace and other inconsistencies\n",
    "\n",
    "#Make all column headers lower case because I don't do these fancy capital letters\n",
    "df2020.columns = df2020.columns.str.lower()\n",
    "df2025.columns = df2025.columns.str.lower()\n",
    "\n",
    "#Make 2025 column headings match 2020\n",
    "df2025.rename(columns={\"county/parish\": \"county\"}, inplace=True)\n",
    "\n",
    "#rename weird 2020 column heading\n",
    "df2020.rename(columns={\"dfc_closed.1\": \"dfc_closed\"}, inplace=True)\n",
    "\n",
    "#strip any extraneous whitespace from county and state columns\n",
    "df2020['county'] = df2020['county'].str.strip()\n",
    "df2020['state'] = df2020['state'].str.strip()\n",
    "\n",
    "df2025['county'] = df2025['county'].str.strip()\n",
    "df2025['state'] = df2025['state'].str.strip()\n",
    "\n",
    "##create combined county/state variable\n",
    "\n",
    "df2020['county_state'] = df2020['county'] + \", \" + df2020['state']\n",
    "df2025['county_state'] = df2025['county'] + \", \" + df2025['state']\n",
    "\n",
    "#double checking everything worked\n",
    "df2020.info()\n",
    "df2020.dtypes\n",
    "\n",
    "df2025.info()\n",
    "df2025.dtypes"
   ]
  },
  {
   "cell_type": "code",
   "execution_count": 23,
   "id": "8e5678ed",
   "metadata": {},
   "outputs": [],
   "source": [
    "#create list of counties with clinics\n",
    "counties_with_clinics = set(df2025['county_state'])\n",
    "counties_with_clinics_2020 = set(df2020['county_state'])"
   ]
  },
  {
   "cell_type": "code",
   "execution_count": 24,
   "id": "020a1717",
   "metadata": {},
   "outputs": [
    {
     "name": "stdout",
     "output_type": "stream",
     "text": [
      "<class 'pandas.core.frame.DataFrame'>\n",
      "RangeIndex: 3222 entries, 0 to 3221\n",
      "Data columns (total 12 columns):\n",
      " #   Column                           Non-Null Count  Dtype \n",
      "---  ------                           --------------  ----- \n",
      " 0   County                           3222 non-null   object\n",
      " 1   State                            3222 non-null   object\n",
      " 2   State FIPS Code                  3222 non-null   int64 \n",
      " 3   County FIPS Code                 3222 non-null   int64 \n",
      " 4   FIPS                             3222 non-null   int64 \n",
      " 5   Total Population                 3222 non-null   int64 \n",
      " 6   Male Population                  3222 non-null   int64 \n",
      " 7   Female Population                3222 non-null   int64 \n",
      " 8   Total Race Responses             3222 non-null   int64 \n",
      " 9   White Alone                      3222 non-null   int64 \n",
      " 10  Black or African American Alone  3222 non-null   int64 \n",
      " 11  Hispanic or Latino               3222 non-null   int64 \n",
      "dtypes: int64(10), object(2)\n",
      "memory usage: 302.2+ KB\n"
     ]
    },
    {
     "data": {
      "text/plain": [
       "County                             object\n",
       "State                              object\n",
       "State FIPS Code                     int64\n",
       "County FIPS Code                    int64\n",
       "FIPS                                int64\n",
       "Total Population                    int64\n",
       "Male Population                     int64\n",
       "Female Population                   int64\n",
       "Total Race Responses                int64\n",
       "White Alone                         int64\n",
       "Black or African American Alone     int64\n",
       "Hispanic or Latino                  int64\n",
       "dtype: object"
      ]
     },
     "execution_count": 24,
     "metadata": {},
     "output_type": "execute_result"
    }
   ],
   "source": [
    "#import full county list\n",
    "\n",
    "counties = pd.read_csv(\"demographic_data.csv\")\n",
    "\n",
    "counties.shape\n",
    "counties.info()\n",
    "counties.dtypes\n",
    "\n"
   ]
  },
  {
   "cell_type": "code",
   "execution_count": 2,
   "id": "994096d1",
   "metadata": {},
   "outputs": [
    {
     "ename": "NameError",
     "evalue": "name 'counties' is not defined",
     "output_type": "error",
     "traceback": [
      "\u001b[31m---------------------------------------------------------------------------\u001b[39m",
      "\u001b[31mNameError\u001b[39m                                 Traceback (most recent call last)",
      "\u001b[36mCell\u001b[39m\u001b[36m \u001b[39m\u001b[32mIn[2]\u001b[39m\u001b[32m, line 2\u001b[39m\n\u001b[32m      1\u001b[39m \u001b[38;5;66;03m#Make all column headers lower case because I don't do these fancy capital letters\u001b[39;00m\n\u001b[32m----> \u001b[39m\u001b[32m2\u001b[39m counties.columns = \u001b[43mcounties\u001b[49m.columns.str.lower()\n\u001b[32m      4\u001b[39m \u001b[38;5;66;03m#strip extraneous whitespace\u001b[39;00m\n\u001b[32m      5\u001b[39m counties[\u001b[33m'\u001b[39m\u001b[33mcounty\u001b[39m\u001b[33m'\u001b[39m] = counties[\u001b[33m'\u001b[39m\u001b[33mcounty\u001b[39m\u001b[33m'\u001b[39m].str.strip()\n",
      "\u001b[31mNameError\u001b[39m: name 'counties' is not defined"
     ]
    }
   ],
   "source": [
    "#Make all column headers lower case because I don't do these fancy capital letters\n",
    "counties.columns = counties.columns.str.lower()\n",
    "\n",
    "#strip extraneous whitespace\n",
    "counties['county'] = counties['county'].str.strip()\n",
    "counties['state'] = counties['state'].str.strip()\n",
    "\n",
    "#make a combined county/state variable\n",
    "counties['county_state'] = counties['county'] + \", \" + counties['state']\n",
    "\n",
    "#double check everything worked\n",
    "counties.info()\n",
    "counties.dtypes"
   ]
  },
  {
   "cell_type": "code",
   "execution_count": 1,
   "id": "6f2b93b1",
   "metadata": {},
   "outputs": [
    {
     "ename": "NameError",
     "evalue": "name 'counties' is not defined",
     "output_type": "error",
     "traceback": [
      "\u001b[31m---------------------------------------------------------------------------\u001b[39m",
      "\u001b[31mNameError\u001b[39m                                 Traceback (most recent call last)",
      "\u001b[36mCell\u001b[39m\u001b[36m \u001b[39m\u001b[32mIn[1]\u001b[39m\u001b[32m, line 4\u001b[39m\n\u001b[32m      1\u001b[39m \u001b[38;5;66;03m#create list of counties WITH and WITHOUT dialysis clinics\u001b[39;00m\n\u001b[32m      2\u001b[39m \n\u001b[32m      3\u001b[39m \u001b[38;5;66;03m# Mark counties WITHOUT a clinic\u001b[39;00m\n\u001b[32m----> \u001b[39m\u001b[32m4\u001b[39m counties[\u001b[33m'\u001b[39m\u001b[33mwith_clinic\u001b[39m\u001b[33m'\u001b[39m] = \u001b[43mcounties\u001b[49m[\u001b[33m'\u001b[39m\u001b[33mcounty_state\u001b[39m\u001b[33m'\u001b[39m].isin(counties_with_clinics)\n\u001b[32m      6\u001b[39m \u001b[38;5;66;03m# Filter for counties with no clinic\u001b[39;00m\n\u001b[32m      7\u001b[39m df_no_clinic = counties[~counties[\u001b[33m'\u001b[39m\u001b[33mwith_clinic\u001b[39m\u001b[33m'\u001b[39m]]\n",
      "\u001b[31mNameError\u001b[39m: name 'counties' is not defined"
     ]
    }
   ],
   "source": [
    "#create list of counties WITH and WITHOUT dialysis clinics\n",
    "\n",
    "# Mark counties WITHOUT a clinic\n",
    "counties['with_clinic'] = counties['county_state'].isin(counties_with_clinics)\n",
    "\n",
    "# Filter for counties with no clinic\n",
    "df_no_clinic = counties[~counties['with_clinic']]"
   ]
  },
  {
   "cell_type": "code",
   "execution_count": null,
   "id": "a4e01e9c",
   "metadata": {},
   "outputs": [],
   "source": []
  },
  {
   "cell_type": "code",
   "execution_count": 4,
   "id": "0a694713",
   "metadata": {},
   "outputs": [
    {
     "name": "stdout",
     "output_type": "stream",
     "text": [
      "           geo_id state county       name    lsad  censusarea  \\\n",
      "0  0500000US01029    01    029   Cleburne  County     560.100   \n",
      "1  0500000US01031    01    031     Coffee  County     678.972   \n",
      "2  0500000US01037    01    037      Coosa  County     650.926   \n",
      "3  0500000US01039    01    039  Covington  County    1030.456   \n",
      "4  0500000US01041    01    041   Crenshaw  County     608.840   \n",
      "\n",
      "                                            geometry state_postal  \\\n",
      "0  POLYGON ((-85.38872 33.91304, -85.38088 33.873...           AL   \n",
      "1  POLYGON ((-86.03044 31.61894, -86.00408 31.619...           AL   \n",
      "2  POLYGON ((-86.00928 33.10164, -86.00917 33.090...           AL   \n",
      "3  POLYGON ((-86.34851 30.99434, -86.35023 30.994...           AL   \n",
      "4  POLYGON ((-86.14699 31.68046, -86.14711 31.663...           AL   \n",
      "\n",
      "    county_state  \n",
      "0   Cleburne, AL  \n",
      "1     Coffee, AL  \n",
      "2      Coosa, AL  \n",
      "3  Covington, AL  \n",
      "4   Crenshaw, AL  \n"
     ]
    }
   ],
   "source": [
    "#import geoJSON file of US counties\n",
    "\n",
    "import geopandas as gpd\n",
    "\n",
    "#convert json from latin-1 encoding to utf-8\n",
    "\n",
    "with open(\"us_counties.json\", \"r\", encoding=\"latin-1\") as f:\n",
    "    data = f.read()\n",
    "\n",
    "with open(\"us_counties_utf8.json\", \"w\", encoding=\"utf-8\") as f:\n",
    "    f.write(data)\n",
    "\n",
    "gdf = gpd.read_file(\"us_counties_utf8.json\")\n",
    "\n",
    "#make everything lowercase\n",
    "gdf.columns = gdf.columns.str.lower()\n",
    "\n",
    "#states are listed by FIPS code. Convert to standard postal abbreviations\n",
    "state_fips_to_abbr = {\n",
    "    '01': 'AL', '02': 'AK', '04': 'AZ', '05': 'AR', '06': 'CA',\n",
    "    '08': 'CO', '09': 'CT', '10': 'DE', '11': 'DC', '12': 'FL',\n",
    "    '13': 'GA', '15': 'HI', '16': 'ID', '17': 'IL', '18': 'IN',\n",
    "    '19': 'IA', '20': 'KS', '21': 'KY', '22': 'LA', '23': 'ME',\n",
    "    '24': 'MD', '25': 'MA', '26': 'MI', '27': 'MN', '28': 'MS',\n",
    "    '29': 'MO', '30': 'MT', '31': 'NE', '32': 'NV', '33': 'NH',\n",
    "    '34': 'NJ', '35': 'NM', '36': 'NY', '37': 'NC', '38': 'ND',\n",
    "    '39': 'OH', '40': 'OK', '41': 'OR', '42': 'PA', '44': 'RI',\n",
    "    '45': 'SC', '46': 'SD', '47': 'TN', '48': 'TX', '49': 'UT',\n",
    "    '50': 'VT', '51': 'VA', '53': 'WA', '54': 'WV', '55': 'WI',\n",
    "    '56': 'WY', '60': 'AS', '66': 'GU', '69': 'MP', '72': 'PR',\n",
    "    '78': 'VI'\n",
    "}\n",
    "\n",
    "# Convert FIPS to strings with leading zeros if needed\n",
    "gdf['state'] = gdf['state'].astype(str).str.zfill(2)\n",
    "\n",
    "# Create a new column with state abbreviations\n",
    "gdf['state_postal'] = gdf['state'].map(state_fips_to_abbr)\n",
    "\n",
    "#create new column with county/state\n",
    "gdf['county_state'] = gdf['name'] + \", \" + gdf['state_postal']\n",
    "\n",
    "#check column headers\n",
    "print(gdf.head())"
   ]
  },
  {
   "cell_type": "code",
   "execution_count": 3,
   "id": "92f66943",
   "metadata": {},
   "outputs": [
    {
     "ename": "NameError",
     "evalue": "name 'gdf' is not defined",
     "output_type": "error",
     "traceback": [
      "\u001b[31m---------------------------------------------------------------------------\u001b[39m",
      "\u001b[31mNameError\u001b[39m                                 Traceback (most recent call last)",
      "\u001b[36mCell\u001b[39m\u001b[36m \u001b[39m\u001b[32mIn[3]\u001b[39m\u001b[32m, line 2\u001b[39m\n\u001b[32m      1\u001b[39m \u001b[38;5;66;03m# Create layer of all counties with clinics in 2020\u001b[39;00m\n\u001b[32m----> \u001b[39m\u001b[32m2\u001b[39m gdf_2020 = \u001b[43mgdf\u001b[49m[gdf[\u001b[33m'\u001b[39m\u001b[33mcounty_state\u001b[39m\u001b[33m'\u001b[39m].isin(counties_2020)]\n\u001b[32m      4\u001b[39m \u001b[38;5;66;03m# Create layer of counties that lost clinics\u001b[39;00m\n\u001b[32m      5\u001b[39m gdf_closed = gdf[gdf[\u001b[33m'\u001b[39m\u001b[33mcounty_state\u001b[39m\u001b[33m'\u001b[39m].isin(closed_counties)]\n",
      "\u001b[31mNameError\u001b[39m: name 'gdf' is not defined"
     ]
    }
   ],
   "source": [
    "# Create layer of all counties with clinics in 2020\n",
    "gdf_2020 = gdf[gdf['county_state'].isin(counties_2020)]\n",
    "\n",
    "# Create layer of counties that lost clinics\n",
    "gdf_closed = gdf[gdf['county_state'].isin(closed_counties)]\n",
    "\n",
    "# save other layers to file\n",
    "gdf_2020.to_file(\"counties_with_clinics_2020.geojson\", driver=\"GeoJSON\")\n",
    "gdf_closed.to_file(\"counties_lost_clinics.geojson\", driver=\"GeoJSON\")"
   ]
  }
 ],
 "metadata": {
  "kernelspec": {
   "display_name": "3.12.0",
   "language": "python",
   "name": "python3"
  },
  "language_info": {
   "codemirror_mode": {
    "name": "ipython",
    "version": 3
   },
   "file_extension": ".py",
   "mimetype": "text/x-python",
   "name": "python",
   "nbconvert_exporter": "python",
   "pygments_lexer": "ipython3",
   "version": "3.12.0"
  }
 },
 "nbformat": 4,
 "nbformat_minor": 5
}
