{
 "cells": [
  {
   "cell_type": "code",
   "execution_count": 1,
   "id": "ca41dad8",
   "metadata": {},
   "outputs": [
    {
     "name": "stdout",
     "output_type": "stream",
     "text": [
      "<class 'pandas.core.frame.DataFrame'>\n",
      "RangeIndex: 7578 entries, 0 to 7577\n",
      "Data columns (total 16 columns):\n",
      " #   Column                            Non-Null Count  Dtype  \n",
      "---  ------                            --------------  -----  \n",
      " 0   CCN                               7578 non-null   int64  \n",
      " 1   NETWORK                           7578 non-null   int64  \n",
      " 2   Facility Name                     7578 non-null   object \n",
      " 3   Five Star Date                    7578 non-null   object \n",
      " 4   Five Star                         7578 non-null   object \n",
      " 5   Five Star Data Availability Code  7578 non-null   int64  \n",
      " 6   Address Line 1                    7578 non-null   object \n",
      " 7   Address Line 2                    1083 non-null   object \n",
      " 8   City                              7578 non-null   object \n",
      " 9   State                             7578 non-null   object \n",
      " 10  Zip                               7578 non-null   int64  \n",
      " 11  County                            7578 non-null   object \n",
      " 12  dfc_closed                        7578 non-null   object \n",
      " 13  full_address                      7578 non-null   object \n",
      " 14  latitude                          7578 non-null   float64\n",
      " 15  longitude                         7578 non-null   float64\n",
      "dtypes: float64(2), int64(4), object(10)\n",
      "memory usage: 947.4+ KB\n",
      "<class 'pandas.core.frame.DataFrame'>\n",
      "RangeIndex: 7556 entries, 0 to 7555\n",
      "Data columns (total 16 columns):\n",
      " #   Column                            Non-Null Count  Dtype  \n",
      "---  ------                            --------------  -----  \n",
      " 0   CCN                               7556 non-null   int64  \n",
      " 1   Network                           7556 non-null   int64  \n",
      " 2   Facility Name                     7556 non-null   object \n",
      " 3   Five Star Date                    7556 non-null   object \n",
      " 4   Five Star                         7013 non-null   float64\n",
      " 5   Five Star Data Availability Code  7556 non-null   int64  \n",
      " 6   Address Line 1                    7556 non-null   object \n",
      " 7   Address Line 2                    1262 non-null   object \n",
      " 8   City                              7556 non-null   object \n",
      " 9   State                             7556 non-null   object \n",
      " 10  Zip                               7556 non-null   int64  \n",
      " 11  County/Parish                     7556 non-null   object \n",
      " 12  dfc_new                           7556 non-null   object \n",
      " 13  full_address                      7556 non-null   object \n",
      " 14  latitude                          7556 non-null   float64\n",
      " 15  longitude                         7556 non-null   float64\n",
      "dtypes: float64(3), int64(4), object(9)\n",
      "memory usage: 944.6+ KB\n"
     ]
    }
   ],
   "source": [
    "import pandas as pd\n",
    "import requests\n",
    "import urllib.parse\n",
    "import time\n",
    "\n",
    "df2020=pd.read_csv(\"dfc_2020_geocoded.csv\")\n",
    "df2025=pd.read_csv(\"dfc_2025_geocoded.csv\")\n",
    "\n",
    "df2020.info()\n",
    "df2025.info()"
   ]
  },
  {
   "cell_type": "code",
   "execution_count": 2,
   "id": "c6efab27",
   "metadata": {},
   "outputs": [
    {
     "name": "stdout",
     "output_type": "stream",
     "text": [
      "<class 'pandas.core.frame.DataFrame'>\n",
      "RangeIndex: 7578 entries, 0 to 7577\n",
      "Data columns (total 16 columns):\n",
      " #   Column                            Non-Null Count  Dtype  \n",
      "---  ------                            --------------  -----  \n",
      " 0   ccn                               7578 non-null   int64  \n",
      " 1   network                           7578 non-null   int64  \n",
      " 2   facility name                     7578 non-null   object \n",
      " 3   five star date                    7578 non-null   object \n",
      " 4   five star                         7578 non-null   object \n",
      " 5   five star data availability code  7578 non-null   int64  \n",
      " 6   address line 1                    7578 non-null   object \n",
      " 7   address line 2                    1083 non-null   object \n",
      " 8   city                              7578 non-null   object \n",
      " 9   state                             7578 non-null   object \n",
      " 10  zip                               7578 non-null   int64  \n",
      " 11  county                            7578 non-null   object \n",
      " 12  dfc_closed                        7578 non-null   object \n",
      " 13  full_address                      7578 non-null   object \n",
      " 14  latitude                          7578 non-null   float64\n",
      " 15  longitude                         7578 non-null   float64\n",
      "dtypes: float64(2), int64(4), object(10)\n",
      "memory usage: 947.4+ KB\n"
     ]
    }
   ],
   "source": [
    "#remove any errant white spaces\n",
    "df2020.columns = df2020.columns.str.strip()\n",
    "df2025.columns = df2025.columns.str.strip()\n",
    "\n",
    "#rename \n",
    "df2020.rename(columns={\"Provider Number\": \"CCN\"}, inplace=True)\n",
    "df2025.rename(columns={\"CMS Certification Number (CCN)\": \"CCN\"}, inplace=True)\n",
    "df2025.rename(columns={\"City/Town\": \"City\"}, inplace=True)\n",
    "df2025.rename(columns={\"ZIP Code\": \"Zip\"}, inplace=True)\n",
    "df2025.rename(columns={\"County/Parish\": \"County\"}, inplace=True)\n",
    "\n",
    "#make all lowercase\n",
    "\n",
    "df2020.columns = df2020.columns.str.lower()\n",
    "df2025.columns = df2025.columns.str.lower()\n",
    "\n",
    "#make facility names lowercase\n",
    "df2020['facility name'] = df2020['facility name'].str.lower()\n",
    "df2025['facility name'] = df2025['facility name'].str.lower()\n",
    "\n",
    "df2020.info()\n"
   ]
  },
  {
   "cell_type": "code",
   "execution_count": 3,
   "id": "276972d5",
   "metadata": {},
   "outputs": [
    {
     "name": "stdout",
     "output_type": "stream",
     "text": [
      "<class 'pandas.core.frame.DataFrame'>\n",
      "RangeIndex: 7556 entries, 0 to 7555\n",
      "Data columns (total 16 columns):\n",
      " #   Column                            Non-Null Count  Dtype  \n",
      "---  ------                            --------------  -----  \n",
      " 0   ccn                               7556 non-null   int64  \n",
      " 1   network                           7556 non-null   int64  \n",
      " 2   facility name                     7556 non-null   object \n",
      " 3   five star date                    7556 non-null   object \n",
      " 4   five star                         7013 non-null   float64\n",
      " 5   five star data availability code  7556 non-null   int64  \n",
      " 6   address line 1                    7556 non-null   object \n",
      " 7   address line 2                    1262 non-null   object \n",
      " 8   city                              7556 non-null   object \n",
      " 9   state                             7556 non-null   object \n",
      " 10  zip                               7556 non-null   int64  \n",
      " 11  county                            7556 non-null   object \n",
      " 12  dfc_new                           7556 non-null   object \n",
      " 13  full_address                      7556 non-null   object \n",
      " 14  latitude                          7556 non-null   float64\n",
      " 15  longitude                         7556 non-null   float64\n",
      "dtypes: float64(3), int64(4), object(9)\n",
      "memory usage: 944.6+ KB\n"
     ]
    }
   ],
   "source": [
    "df2025.info()"
   ]
  },
  {
   "cell_type": "code",
   "execution_count": 4,
   "id": "8a6c11ac",
   "metadata": {},
   "outputs": [
    {
     "name": "stdout",
     "output_type": "stream",
     "text": [
      "     ccn  network                   facility name           five star date  \\\n",
      "0  12306        8     childrens hospital dialysis  01/01/2015 - 12/31/2018   \n",
      "1  12500        8                fmc capitol city  01/01/2015 - 12/31/2018   \n",
      "2  12501        8                gadsden dialysis  01/01/2015 - 12/31/2018   \n",
      "3  12502        8  tuscaloosa university dialysis  01/01/2015 - 12/31/2018   \n",
      "4  12505        8                  pcd montgomery  01/01/2015 - 12/31/2018   \n",
      "\n",
      "       five star  five star data availability code          address line 1  \\\n",
      "0  Not Available                               260   1600 7TH AVENUE SOUTH   \n",
      "1              3                                 1    255 S JACKSON STREET   \n",
      "2              3                                 1  409 SOUTH FIRST STREET   \n",
      "3              4                                 1         220 15TH STREET   \n",
      "4              4                                 1      1001 FOREST AVENUE   \n",
      "\n",
      "  address line 2        city state    zip      county dfc_closed  \\\n",
      "0            NaN  BIRMINGHAM    AL  35233   JEFFERSON       open   \n",
      "1            NaN  MONTGOMERY    AL  36104  MONTGOMERY       open   \n",
      "2            NaN     GADSDEN    AL  35901      ETOWAH       open   \n",
      "3            NaN  TUSCALOOSA    AL  35401  TUSCALOOSA       open   \n",
      "4            NaN  MONTGOMERY    AL  36106  MONTGOMERY       open   \n",
      "\n",
      "                                  full_address   latitude   longitude  \\\n",
      "0  1600 7TH AVENUE SOUTH, BIRMINGHAM, AL 35233  33.504018  -86.805215   \n",
      "1   255 S JACKSON STREET, MONTGOMERY, AL 36104  32.374048  -86.295939   \n",
      "2    409 SOUTH FIRST STREET, GADSDEN, AL 35901   34.00675  -86.003132   \n",
      "3        220 15TH STREET, TUSCALOOSA, AL 35401   33.19899   -87.53823   \n",
      "4     1001 FOREST AVENUE, MONTGOMERY, AL 36106  32.369331  -86.285969   \n",
      "\n",
      "                lat_long  \n",
      "0  33.504018, -86.805215  \n",
      "1  32.374048, -86.295939  \n",
      "2   34.00675, -86.003132  \n",
      "3    33.19899, -87.53823  \n",
      "4  32.369331, -86.285969  \n",
      "     ccn  network                          facility name       five star date  \\\n",
      "0  12306        8            childrens hospital dialysis  01Jan2020-31Dec2023   \n",
      "1  12500        8                       fmc capitol city  01Jan2020-31Dec2023   \n",
      "2  12501        8                davita gadsden dialysis  01Jan2020-31Dec2023   \n",
      "3  12502        8  davita tuscaloosa university dialysis  01Jan2020-31Dec2023   \n",
      "4  12505        8                  davita pdi-montgomery  01Jan2020-31Dec2023   \n",
      "\n",
      "   five star  five star data availability code          address line 1  \\\n",
      "0        NaN                               260   1600 7TH AVENUE SOUTH   \n",
      "1        1.0                                 1    255 S JACKSON STREET   \n",
      "2        2.0                                 1  409 SOUTH FIRST STREET   \n",
      "3        1.0                                 1         220 15TH STREET   \n",
      "4        3.0                                 1      1001 FOREST AVENUE   \n",
      "\n",
      "  address line 2        city state    zip      county   dfc_new  \\\n",
      "0            NaN  BIRMINGHAM    AL  35233   Jefferson  existing   \n",
      "1            NaN  MONTGOMERY    AL  36104  Montgomery  existing   \n",
      "2            NaN     GADSDEN    AL  35901      Etowah  existing   \n",
      "3            NaN  TUSCALOOSA    AL  35401  Tuscaloosa  existing   \n",
      "4            NaN  MONTGOMERY    AL  36106  Montgomery  existing   \n",
      "\n",
      "                                  full_address   latitude   longitude  \\\n",
      "0  1600 7TH AVENUE SOUTH, BIRMINGHAM, AL 35233  33.504018  -86.805215   \n",
      "1   255 S JACKSON STREET, MONTGOMERY, AL 36104  32.374048  -86.295939   \n",
      "2    409 SOUTH FIRST STREET, GADSDEN, AL 35901   34.00675  -86.003132   \n",
      "3        220 15TH STREET, TUSCALOOSA, AL 35401   33.19899   -87.53823   \n",
      "4     1001 FOREST AVENUE, MONTGOMERY, AL 36106  32.369331  -86.285969   \n",
      "\n",
      "                lat_long  \n",
      "0  33.504018, -86.805215  \n",
      "1  32.374048, -86.295939  \n",
      "2   34.00675, -86.003132  \n",
      "3    33.19899, -87.53823  \n",
      "4  32.369331, -86.285969  \n"
     ]
    }
   ],
   "source": [
    "#make new combined lat/long column, remove white spaces\n",
    "\n",
    "#convert columns from floats to str\n",
    "\n",
    "df2020['latitude'] = df2020['latitude'].astype(str)\n",
    "df2020['longitude'] = df2020['longitude'].astype(str)\n",
    "\n",
    "df2025['latitude'] = df2025['latitude'].astype(str)\n",
    "df2025['longitude'] = df2025['longitude'].astype(str)\n",
    "\n",
    "df2020['lat_long'] = df2020['latitude'] + \", \" + df2020['longitude']\n",
    "df2020['lat_long'] = df2020['lat_long'].str.strip()\n",
    "\n",
    "df2025['lat_long'] = df2025['latitude'] + \", \" + df2025['longitude']\n",
    "df2025['lat_long'] = df2025['lat_long'].str.strip()\n",
    "\n",
    "#checking everything worked\n",
    "print(df2020.head())\n",
    "print(df2025.head())"
   ]
  },
  {
   "cell_type": "code",
   "execution_count": 5,
   "id": "fe3b8ae6",
   "metadata": {},
   "outputs": [],
   "source": [
    "##create combined county/state variable\n",
    "\n",
    "df2020['county_state'] = df2020['county'] + \", \" + df2020['state']\n",
    "df2025['county_state'] = df2025['county'] + \", \" + df2025['state']\n",
    "\n",
    "#create list of counties with clinics\n",
    "counties_with_clinics = set(df2025['county_state'])\n",
    "counties_with_clinics_2020 = set(df2020['county_state'])"
   ]
  },
  {
   "cell_type": "code",
   "execution_count": 6,
   "id": "78fb130d",
   "metadata": {},
   "outputs": [
    {
     "name": "stdout",
     "output_type": "stream",
     "text": [
      "<class 'pandas.core.frame.DataFrame'>\n",
      "RangeIndex: 3222 entries, 0 to 3221\n",
      "Data columns (total 12 columns):\n",
      " #   Column                           Non-Null Count  Dtype \n",
      "---  ------                           --------------  ----- \n",
      " 0   County                           3222 non-null   object\n",
      " 1   State                            3222 non-null   object\n",
      " 2   State FIPS Code                  3222 non-null   int64 \n",
      " 3   County FIPS Code                 3222 non-null   int64 \n",
      " 4   FIPS                             3222 non-null   int64 \n",
      " 5   Total Population                 3222 non-null   int64 \n",
      " 6   Male Population                  3222 non-null   int64 \n",
      " 7   Female Population                3222 non-null   int64 \n",
      " 8   Total Race Responses             3222 non-null   int64 \n",
      " 9   White Alone                      3222 non-null   int64 \n",
      " 10  Black or African American Alone  3222 non-null   int64 \n",
      " 11  Hispanic or Latino               3222 non-null   int64 \n",
      "dtypes: int64(10), object(2)\n",
      "memory usage: 302.2+ KB\n"
     ]
    },
    {
     "data": {
      "text/plain": [
       "County                             object\n",
       "State                              object\n",
       "State FIPS Code                     int64\n",
       "County FIPS Code                    int64\n",
       "FIPS                                int64\n",
       "Total Population                    int64\n",
       "Male Population                     int64\n",
       "Female Population                   int64\n",
       "Total Race Responses                int64\n",
       "White Alone                         int64\n",
       "Black or African American Alone     int64\n",
       "Hispanic or Latino                  int64\n",
       "dtype: object"
      ]
     },
     "execution_count": 6,
     "metadata": {},
     "output_type": "execute_result"
    }
   ],
   "source": [
    "#import full county list\n",
    "\n",
    "counties = pd.read_csv(\"demographic_data.csv\")\n",
    "\n",
    "counties.shape\n",
    "counties.info()\n",
    "counties.dtypes"
   ]
  },
  {
   "cell_type": "code",
   "execution_count": 7,
   "id": "5532544c",
   "metadata": {},
   "outputs": [
    {
     "name": "stdout",
     "output_type": "stream",
     "text": [
      "<class 'pandas.core.frame.DataFrame'>\n",
      "RangeIndex: 3222 entries, 0 to 3221\n",
      "Data columns (total 13 columns):\n",
      " #   Column                           Non-Null Count  Dtype \n",
      "---  ------                           --------------  ----- \n",
      " 0   county                           3222 non-null   object\n",
      " 1   state                            3222 non-null   object\n",
      " 2   state fips code                  3222 non-null   int64 \n",
      " 3   county fips code                 3222 non-null   int64 \n",
      " 4   fips                             3222 non-null   int64 \n",
      " 5   total population                 3222 non-null   int64 \n",
      " 6   male population                  3222 non-null   int64 \n",
      " 7   female population                3222 non-null   int64 \n",
      " 8   total race responses             3222 non-null   int64 \n",
      " 9   white alone                      3222 non-null   int64 \n",
      " 10  black or african american alone  3222 non-null   int64 \n",
      " 11  hispanic or latino               3222 non-null   int64 \n",
      " 12  county_state                     3222 non-null   object\n",
      "dtypes: int64(10), object(3)\n",
      "memory usage: 327.4+ KB\n"
     ]
    },
    {
     "data": {
      "text/plain": [
       "county                             object\n",
       "state                              object\n",
       "state fips code                     int64\n",
       "county fips code                    int64\n",
       "fips                                int64\n",
       "total population                    int64\n",
       "male population                     int64\n",
       "female population                   int64\n",
       "total race responses                int64\n",
       "white alone                         int64\n",
       "black or african american alone     int64\n",
       "hispanic or latino                  int64\n",
       "county_state                       object\n",
       "dtype: object"
      ]
     },
     "execution_count": 7,
     "metadata": {},
     "output_type": "execute_result"
    }
   ],
   "source": [
    "#Make all column headers lower case because I don't do these fancy capital letters\n",
    "counties.columns = counties.columns.str.lower()\n",
    "\n",
    "#strip extraneous whitespace\n",
    "counties['county'] = counties['county'].str.strip()\n",
    "counties['state'] = counties['state'].str.strip()\n",
    "\n",
    "#make a combined county/state variable\n",
    "counties['county_state'] = counties['county'] + \", \" + counties['state']\n",
    "\n",
    "#double check everything worked\n",
    "counties.info()\n",
    "counties.dtypes"
   ]
  },
  {
   "cell_type": "code",
   "execution_count": 8,
   "id": "59afd638",
   "metadata": {},
   "outputs": [],
   "source": [
    "#create list of counties WITH and WITHOUT dialysis clinics\n",
    "\n",
    "# Mark counties WITHOUT a clinic\n",
    "counties['with_clinic_2020'] = counties['county_state'].isin(counties_with_clinics_2020)\n",
    "counties['with_clinic_2025'] = counties['county_state'].isin(counties_with_clinics)"
   ]
  },
  {
   "cell_type": "code",
   "execution_count": 9,
   "id": "829069df",
   "metadata": {},
   "outputs": [],
   "source": [
    "# Get unique counties with clinics in each year\n",
    "counties_2020 = set(df2020['county_state'].unique())\n",
    "counties_2025 = set(df2025['county_state'].unique())\n",
    "\n",
    "# Find counties that lost clinics\n",
    "closed_counties = counties_2020 - counties_2025\n",
    "\n",
    "#Find counties with new clinics\n",
    "new_counties = counties_2025 - counties_2020"
   ]
  },
  {
   "cell_type": "code",
   "execution_count": 10,
   "id": "7f2bff48",
   "metadata": {},
   "outputs": [
    {
     "name": "stdout",
     "output_type": "stream",
     "text": [
      "           geo_id state county       name    lsad  censusarea  \\\n",
      "0  0500000US01029    01    029   Cleburne  County     560.100   \n",
      "1  0500000US01031    01    031     Coffee  County     678.972   \n",
      "2  0500000US01037    01    037      Coosa  County     650.926   \n",
      "3  0500000US01039    01    039  Covington  County    1030.456   \n",
      "4  0500000US01041    01    041   Crenshaw  County     608.840   \n",
      "\n",
      "                                            geometry state_postal  \\\n",
      "0  POLYGON ((-85.38872 33.91304, -85.38088 33.873...           AL   \n",
      "1  POLYGON ((-86.03044 31.61894, -86.00408 31.619...           AL   \n",
      "2  POLYGON ((-86.00928 33.10164, -86.00917 33.090...           AL   \n",
      "3  POLYGON ((-86.34851 30.99434, -86.35023 30.994...           AL   \n",
      "4  POLYGON ((-86.14699 31.68046, -86.14711 31.663...           AL   \n",
      "\n",
      "    county_state  \n",
      "0   Cleburne, AL  \n",
      "1     Coffee, AL  \n",
      "2      Coosa, AL  \n",
      "3  Covington, AL  \n",
      "4   Crenshaw, AL  \n"
     ]
    }
   ],
   "source": [
    "#GEOJSON to start mapping\n",
    "\n",
    "import geopandas as gpd\n",
    "\n",
    "#convert json from latin-1 encoding to utf-8\n",
    "\n",
    "with open(\"us_counties.json\", \"r\", encoding=\"latin-1\") as f:\n",
    "    data = f.read()\n",
    "\n",
    "with open(\"us_counties_utf8.json\", \"w\", encoding=\"utf-8\") as f:\n",
    "    f.write(data)\n",
    "\n",
    "gdf = gpd.read_file(\"us_counties_utf8.json\")\n",
    "\n",
    "#make everything lowercase\n",
    "gdf.columns = gdf.columns.str.lower()\n",
    "\n",
    "#states are listed by FIPS code. Convert to standard postal abbreviations\n",
    "state_fips_to_abbr = {\n",
    "    '01': 'AL', '02': 'AK', '04': 'AZ', '05': 'AR', '06': 'CA',\n",
    "    '08': 'CO', '09': 'CT', '10': 'DE', '11': 'DC', '12': 'FL',\n",
    "    '13': 'GA', '15': 'HI', '16': 'ID', '17': 'IL', '18': 'IN',\n",
    "    '19': 'IA', '20': 'KS', '21': 'KY', '22': 'LA', '23': 'ME',\n",
    "    '24': 'MD', '25': 'MA', '26': 'MI', '27': 'MN', '28': 'MS',\n",
    "    '29': 'MO', '30': 'MT', '31': 'NE', '32': 'NV', '33': 'NH',\n",
    "    '34': 'NJ', '35': 'NM', '36': 'NY', '37': 'NC', '38': 'ND',\n",
    "    '39': 'OH', '40': 'OK', '41': 'OR', '42': 'PA', '44': 'RI',\n",
    "    '45': 'SC', '46': 'SD', '47': 'TN', '48': 'TX', '49': 'UT',\n",
    "    '50': 'VT', '51': 'VA', '53': 'WA', '54': 'WV', '55': 'WI',\n",
    "    '56': 'WY', '60': 'AS', '66': 'GU', '69': 'MP', '72': 'PR',\n",
    "    '78': 'VI'\n",
    "}\n",
    "\n",
    "# Convert FIPS to strings with leading zeros if needed\n",
    "gdf['state'] = gdf['state'].astype(str).str.zfill(2)\n",
    "\n",
    "# Create a new column with state abbreviations\n",
    "gdf['state_postal'] = gdf['state'].map(state_fips_to_abbr)\n",
    "\n",
    "#create new column with county/state\n",
    "gdf['county_state'] = gdf['name'] + \", \" + gdf['state_postal']\n",
    "\n",
    "#check column headers\n",
    "print(gdf.head())"
   ]
  },
  {
   "cell_type": "code",
   "execution_count": 11,
   "id": "3ac480aa",
   "metadata": {},
   "outputs": [],
   "source": [
    "# Create layer of all counties with clinics in 2020\n",
    "gdf_2020 = gdf[gdf['county_state'].isin(counties_2020)]\n",
    "\n",
    "# Create layer of counties that lost clinics\n",
    "gdf_closed = gdf[gdf['county_state'].isin(closed_counties)]\n",
    "\n",
    "# Save other layers to file\n",
    "gdf_2020.to_file(\"counties_with_clinics_2020.geojson\", driver=\"GeoJSON\")\n",
    "gdf_closed.to_file(\"counties_lost_clinics.geojson\", driver=\"GeoJSON\")"
   ]
  },
  {
   "cell_type": "code",
   "execution_count": 12,
   "id": "ff94fbce",
   "metadata": {},
   "outputs": [],
   "source": [
    "#For chloropleth map of clinic density\n",
    "\n",
    "# Count clinics per county in 2025\n",
    "clinic_counts = df2025.groupby('county_state').size().reset_index(name='clinic_count')\n",
    "\n",
    "# Merge by County_State\n",
    "gdf_merged = gdf.merge(clinic_counts, on='county_state', how='left')\n",
    "\n",
    "# Replace missing values with 0 (counties with no clinics)\n",
    "gdf_merged['clinic_count'] = gdf_merged['clinic_count'].fillna(0).astype(int)\n",
    "\n",
    "#export Geojson\n",
    "gdf_merged.to_file(\"dialysis_clinic_density.geojson\", driver=\"GeoJSON\")"
   ]
  },
  {
   "cell_type": "code",
   "execution_count": 18,
   "id": "4db3902c",
   "metadata": {},
   "outputs": [
    {
     "data": {
      "text/plain": [
       "np.int64(1445)"
      ]
     },
     "execution_count": 18,
     "metadata": {},
     "output_type": "execute_result"
    }
   ],
   "source": [
    "#count number of counties with no dialysis clinics\n",
    "zeros_in_clinic_count = (gdf_merged['clinic_count'] == 0).sum()\n",
    "zeros_in_clinic_count\n"
   ]
  },
  {
   "cell_type": "code",
   "execution_count": 21,
   "id": "a71f1583",
   "metadata": {},
   "outputs": [
    {
     "data": {
      "text/plain": [
       "np.float64(45.975182946229715)"
      ]
     },
     "execution_count": 21,
     "metadata": {},
     "output_type": "execute_result"
    }
   ],
   "source": [
    "#percentage of counties with no dialysis clinics\n",
    "pct_counties_without_clinic = (zeros_in_clinic_count/3143)*100 #total counties in the US \n",
    "pct_counties_without_clinic"
   ]
  },
  {
   "cell_type": "code",
   "execution_count": 13,
   "id": "0ac200d0",
   "metadata": {},
   "outputs": [],
   "source": [
    "#To map changes to counties with dialysis clinics from 2020 to 2025\n",
    "\n",
    "# Convert sets to DataFrames with 'county_state' and status\n",
    "df_closed = pd.DataFrame({'county_state': list(closed_counties)})\n",
    "df_closed['status'] = 'Closed'\n",
    "\n",
    "df_opened = pd.DataFrame({'county_state': list(new_counties)})\n",
    "df_opened['status'] = 'Opened'\n",
    "\n",
    "# Combine them into one DataFrame\n",
    "df_changes = pd.concat([df_closed, df_opened], ignore_index=True)\n",
    "\n",
    "# Merge the status info into the spatial data\n",
    "gdf_changes = gdf.merge(df_changes, on='county_state', how='inner')\n",
    "\n",
    "# Save to a GeoJSON file\n",
    "gdf_changes.to_file(\"counties_lost_or_gained.geojson\", driver=\"GeoJSON\")"
   ]
  },
  {
   "cell_type": "code",
   "execution_count": 14,
   "id": "0cfe5e3d",
   "metadata": {},
   "outputs": [],
   "source": [
    "#reproject geojson files into EPSG 4326\n",
    "\n",
    "gdf = gpd.read_file('counties_lost_or_gained.geojson')\n",
    "gdf = gdf.to_crs(epsg=4326)\n",
    "gdf.to_file('reprojected_counties_lost_or_gained.geojson', driver='GeoJSON')\n",
    "\n",
    "gdf = gpd.read_file('dialysis_clinic_density.geojson')\n",
    "gdf = gdf.to_crs(epsg=4326)\n",
    "gdf.to_file('reprojected_dialysis_clinic_density.geojson', driver='GeoJSON')\n",
    "\n"
   ]
  }
 ],
 "metadata": {
  "kernelspec": {
   "display_name": "3.12.0",
   "language": "python",
   "name": "python3"
  },
  "language_info": {
   "codemirror_mode": {
    "name": "ipython",
    "version": 3
   },
   "file_extension": ".py",
   "mimetype": "text/x-python",
   "name": "python",
   "nbconvert_exporter": "python",
   "pygments_lexer": "ipython3",
   "version": "3.12.0"
  }
 },
 "nbformat": 4,
 "nbformat_minor": 5
}
